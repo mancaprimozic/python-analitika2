{
 "cells": [
  {
   "cell_type": "markdown",
   "metadata": {},
   "source": [
    "# SQL"
   ]
  },
  {
   "cell_type": "markdown",
   "metadata": {},
   "source": [
    "## Shema\n",
    "\n",
    "Poveži se na `jobs.db` databazo.\n",
    "\n",
    "Prikaži shemo `recent_grads` tabele.\n",
    "\n",
    "Prilepite ukaz, ki ste ga izvedli in izpisane vrstice."
   ]
  },
  {
   "cell_type": "markdown",
   "metadata": {},
   "source": [
    "```sqlite3\n",
    "CREATE TABLE IF NOT EXISTS \"recent_grads\" (\n",
    "\"index\" INTEGER,\n",
    "  \"Rank\" INTEGER,\n",
    "  \"Major_code\" INTEGER,\n",
    "  \"Major\" TEXT,\n",
    "  \"Major_category\" TEXT,\n",
    "  \"Total\" INTEGER,\n",
    "  \"Sample_size\" INTEGER,\n",
    "  \"Men\" INTEGER,\n",
    "  \"Women\" INTEGER,\n",
    "  \"ShareWomen\" REAL,\n",
    "  \"Employed\" INTEGER,\n",
    "  \"Full_time\" INTEGER,\n",
    "  \"Part_time\" INTEGER,\n",
    "  \"Full_time_year_round\" INTEGER,\n",
    "  \"Unemployed\" INTEGER,\n",
    "  \"Unemployment_rate\" REAL,\n",
    "  \"Median\" INTEGER,\n",
    "  \"P25th\" INTEGER,\n",
    "  \"P75th\" INTEGER,\n",
    "  \"College_jobs\" INTEGER,\n",
    "  \"Non_college_jobs\" INTEGER,\n",
    "  \"Low_wage_jobs\" INTEGER\n",
    ");\n",
    "CREATE INDEX \"ix_recent_grads_index\"ON \"recent_grads\" (\"index\");\n",
    "```"
   ]
  },
  {
   "cell_type": "markdown",
   "metadata": {},
   "source": [
    "Najprej se premankeš v mapo data\n",
    "\n",
    "#### 1. Povezava na bazo:\n",
    "\n",
    "Ukaz: sqlite3 jobs.db\n",
    "\n",
    "Izpisane vrstice:\n",
    "\n",
    "SQLite version 3.30.1 2019-10-10 20:19:45\n",
    "Enter \".help\" for usage hints.\n",
    "\n",
    "\n",
    "#### 2. shema tabele recent_grads\n",
    "\n",
    "Ukaz: .schema recent_grads\n",
    "\n",
    "Izpisane vrstice:\n",
    "\n",
    "CREATE TABLE IF NOT EXISTS \"recent_grads\" (\n",
    "\"index\" INTEGER,\n",
    "  \"Rank\" INTEGER,\n",
    "  \"Major_code\" INTEGER,\n",
    "  \"Major\" TEXT,\n",
    "  \"Major_category\" TEXT,\n",
    "  \"Total\" INTEGER,\n",
    "  \"Sample_size\" INTEGER,\n",
    "  \"Men\" INTEGER,\n",
    "  \"Women\" INTEGER,\n",
    "  \"ShareWomen\" REAL,\n",
    "  \"Employed\" INTEGER,\n",
    "  \"Full_time\" INTEGER,\n",
    "  \"Part_time\" INTEGER,\n",
    "  \"Full_time_year_round\" INTEGER,\n",
    "  \"Unemployed\" INTEGER,\n",
    "  \"Unemployment_rate\" REAL,\n",
    "  \"Median\" INTEGER,\n",
    "  \"P25th\" INTEGER,\n",
    "  \"P75th\" INTEGER,\n",
    "  \"College_jobs\" INTEGER,\n",
    "  \"Non_college_jobs\" INTEGER,\n",
    "  \"Low_wage_jobs\" INTEGER\n",
    ");\n",
    "CREATE INDEX \"ix_recent_grads_index\"ON \"recent_grads\" (\"index\");"
   ]
  },
  {
   "cell_type": "markdown",
   "metadata": {},
   "source": [
    "## SELECT and LIMIT\n",
    "\n",
    "Prikaži prvih 12 vrstic stolpcev `Rank` in `Major`, v tem vrstnem redu, tabele `recent_grads`.\n",
    "\n",
    "Prilepite ukaz, ki ste ga izvedli in izpisane vrstice."
   ]
  },
  {
   "cell_type": "markdown",
   "metadata": {},
   "source": [
    "```sql\n",
    "1|PETROLEUM ENGINEERING\n",
    "2|MINING AND MINERAL ENGINEERING\n",
    "3|METALLURGICAL ENGINEERING\n",
    "4|NAVAL ARCHITECTURE AND MARINE ENGINEERING\n",
    "5|CHEMICAL ENGINEERING\n",
    "6|NUCLEAR ENGINEERING\n",
    "7|ACTUARIAL SCIENCE\n",
    "8|ASTRONOMY AND ASTROPHYSICS\n",
    "9|MECHANICAL ENGINEERING\n",
    "10|ELECTRICAL ENGINEERING\n",
    "11|COMPUTER ENGINEERING\n",
    "12|AEROSPACE ENGINEERING\n",
    "```"
   ]
  },
  {
   "cell_type": "markdown",
   "metadata": {},
   "source": [
    "#### Ukaz: \n",
    "SELECT Rank, Major FROM recent_grads LIMIT 12;\n",
    "\n",
    "#### Rezultat:\n",
    "```sql\n",
    "1|PETROLEUM ENGINEERING\n",
    "2|MINING AND MINERAL ENGINEERING\n",
    "3|METALLURGICAL ENGINEERING\n",
    "4|NAVAL ARCHITECTURE AND MARINE ENGINEERING\n",
    "5|CHEMICAL ENGINEERING\n",
    "6|NUCLEAR ENGINEERING\n",
    "7|ACTUARIAL SCIENCE\n",
    "8|ASTRONOMY AND ASTROPHYSICS\n",
    "9|MECHANICAL ENGINEERING\n",
    "10|ELECTRICAL ENGINEERING\n",
    "11|COMPUTER ENGINEERING\n",
    "12|AEROSPACE ENGINEERING\n",
    "```"
   ]
  },
  {
   "cell_type": "markdown",
   "metadata": {},
   "source": [
    "## WHERE\n",
    "\n",
    "Prikaži stolpca `Major`, `Unemployment_rate` in `Total`, kjer je `Unemployment_rate` večji od 10% in stolpec `Total` (celotno število diplomantov) manjši od 1000.\n",
    "\n",
    "Prilepite ukaz, ki ste ga izvedli in izpisane vrstice."
   ]
  },
  {
   "cell_type": "markdown",
   "metadata": {},
   "source": [
    "```sql\n",
    "MINING AND MINERAL ENGINEERING|0.117241379|756\n",
    "SCHOOL STUDENT COUNSELING|0.107579462|818\n",
    "```"
   ]
  },
  {
   "cell_type": "markdown",
   "metadata": {},
   "source": [
    "#### Ukaz:\n",
    "SELECT Major, Unemployment_rate, Total FROM recent_grads WHERE Unemployment_rate > 0.1 AND Total < 1000;\n",
    "\n",
    "#### Rezultat:\n",
    "```sql\n",
    "MINING AND MINERAL ENGINEERING|0.117241379|756\n",
    "SCHOOL STUDENT COUNSELING|0.107579462|818\n",
    "```\n"
   ]
  },
  {
   "cell_type": "markdown",
   "metadata": {},
   "source": [
    "## ORDER BY\n",
    "\n",
    "Prikažite prvih 5 stolpecv `Major`, `Mediana`. Vrstni red naj bo naraščajoč glede na stolpec `Mediana`.\n",
    "\n",
    "Prilepite ukaz, ki ste ga izvedli in izpisane vrstice."
   ]
  },
  {
   "cell_type": "markdown",
   "metadata": {},
   "source": [
    "```sql\n",
    "LIBRARY SCIENCE|22000\n",
    "COUNSELING PSYCHOLOGY|23400\n",
    "EDUCATIONAL PSYCHOLOGY|25000\n",
    "CLINICAL PSYCHOLOGY|25000\n",
    "ZOOLOGY|26000\n",
    "```"
   ]
  },
  {
   "cell_type": "markdown",
   "metadata": {},
   "source": [
    "#### Ukaz:\n",
    "SELECT Major, Median FROM recent_grads ORDER BY Median LIMIT 5;\n",
    "\n",
    "#### Rezultat:\n",
    "```sql\n",
    "LIBRARY SCIENCE|22000\n",
    "COUNSELING PSYCHOLOGY|23400\n",
    "EDUCATIONAL PSYCHOLOGY|25000\n",
    "CLINICAL PSYCHOLOGY|25000\n",
    "ZOOLOGY|26000\n",
    "```"
   ]
  },
  {
   "cell_type": "markdown",
   "metadata": {},
   "source": [
    "# Python SQLite3"
   ]
  },
  {
   "cell_type": "code",
   "execution_count": 3,
   "metadata": {},
   "outputs": [],
   "source": [
    "import sqlite3"
   ]
  },
  {
   "cell_type": "markdown",
   "metadata": {},
   "source": [
    "Povežite se na `job.db` databazo.\n",
    "\n",
    "Prikažite vrstice od 10 do 15, za stolpce `Rank`, `Major`, `Total`. "
   ]
  },
  {
   "cell_type": "code",
   "execution_count": 13,
   "metadata": {},
   "outputs": [],
   "source": [
    "# Rešitev\n",
    "conn = sqlite3.connect('data/jobs.db')\n",
    "cursor = conn.cursor()\n",
    "\n",
    "query = 'SELECT Rank, Major, Total  FROM recent_grads;'\n",
    "cursor.execute(query)\n",
    "results = cursor.fetchall()\n",
    "\n",
    "\n",
    "\n"
   ]
  },
  {
   "cell_type": "code",
   "execution_count": 14,
   "metadata": {},
   "outputs": [
    {
     "data": {
      "text/plain": [
       "[(10, 'ELECTRICAL ENGINEERING', 81527),\n",
       " (11, 'COMPUTER ENGINEERING', 41542),\n",
       " (12, 'AEROSPACE ENGINEERING', 15058),\n",
       " (13, 'BIOMEDICAL ENGINEERING', 14955),\n",
       " (14, 'MATERIALS SCIENCE', 4279),\n",
       " (15, 'ENGINEERING MECHANICS PHYSICS AND SCIENCE', 4321)]"
      ]
     },
     "execution_count": 14,
     "metadata": {},
     "output_type": "execute_result"
    }
   ],
   "source": [
    "results[9:15]"
   ]
  },
  {
   "cell_type": "code",
   "execution_count": 15,
   "metadata": {},
   "outputs": [],
   "source": [
    "#zapremo povezavo\n",
    "conn.close()"
   ]
  },
  {
   "cell_type": "markdown",
   "metadata": {},
   "source": [
    "# SQLAlchemy and Pandas\n",
    "\n"
   ]
  },
  {
   "cell_type": "code",
   "execution_count": 16,
   "metadata": {},
   "outputs": [],
   "source": [
    "import sqlalchemy\n",
    "from sqlalchemy import create_engine\n",
    "from sqlalchemy import DateTime, Integer, String, Boolean\n",
    "\n",
    "import pandas as pd\n",
    "import numpy as np"
   ]
  },
  {
   "cell_type": "code",
   "execution_count": null,
   "metadata": {},
   "outputs": [],
   "source": [
    "\n"
   ]
  },
  {
   "cell_type": "markdown",
   "metadata": {},
   "source": [
    "Povežite se na `logs.db` databazo.\n",
    "\n",
    "Preberite celotno `weblog` tabelo v DataFrame in prikažite prvih 5 vrstic.\n",
    "(stolpec `id` naj bo index DataFrama)"
   ]
  },
  {
   "cell_type": "code",
   "execution_count": 18,
   "metadata": {},
   "outputs": [
    {
     "data": {
      "text/html": [
       "<div>\n",
       "<style scoped>\n",
       "    .dataframe tbody tr th:only-of-type {\n",
       "        vertical-align: middle;\n",
       "    }\n",
       "\n",
       "    .dataframe tbody tr th {\n",
       "        vertical-align: top;\n",
       "    }\n",
       "\n",
       "    .dataframe thead th {\n",
       "        text-align: right;\n",
       "    }\n",
       "</style>\n",
       "<table border=\"1\" class=\"dataframe\">\n",
       "  <thead>\n",
       "    <tr style=\"text-align: right;\">\n",
       "      <th></th>\n",
       "      <th>ip</th>\n",
       "      <th>timestamp</th>\n",
       "      <th>status</th>\n",
       "      <th>method</th>\n",
       "    </tr>\n",
       "    <tr>\n",
       "      <th>id</th>\n",
       "      <th></th>\n",
       "      <th></th>\n",
       "      <th></th>\n",
       "      <th></th>\n",
       "    </tr>\n",
       "  </thead>\n",
       "  <tbody>\n",
       "    <tr>\n",
       "      <th>1</th>\n",
       "      <td>10.128.2.1</td>\n",
       "      <td>2017-11-29 06:58:55</td>\n",
       "      <td>200</td>\n",
       "      <td>GET</td>\n",
       "    </tr>\n",
       "    <tr>\n",
       "      <th>2</th>\n",
       "      <td>10.128.2.1</td>\n",
       "      <td>2017-11-29 06:59:02</td>\n",
       "      <td>302</td>\n",
       "      <td>POST</td>\n",
       "    </tr>\n",
       "    <tr>\n",
       "      <th>3</th>\n",
       "      <td>10.128.2.1</td>\n",
       "      <td>2017-11-29 06:59:03</td>\n",
       "      <td>200</td>\n",
       "      <td>GET</td>\n",
       "    </tr>\n",
       "    <tr>\n",
       "      <th>4</th>\n",
       "      <td>10.131.2.1</td>\n",
       "      <td>2017-11-29 06:59:04</td>\n",
       "      <td>200</td>\n",
       "      <td>GET</td>\n",
       "    </tr>\n",
       "    <tr>\n",
       "      <th>5</th>\n",
       "      <td>10.130.2.1</td>\n",
       "      <td>2017-11-29 06:59:06</td>\n",
       "      <td>200</td>\n",
       "      <td>GET</td>\n",
       "    </tr>\n",
       "  </tbody>\n",
       "</table>\n",
       "</div>"
      ],
      "text/plain": [
       "            ip           timestamp  status method\n",
       "id                                               \n",
       "1   10.128.2.1 2017-11-29 06:58:55     200    GET\n",
       "2   10.128.2.1 2017-11-29 06:59:02     302   POST\n",
       "3   10.128.2.1 2017-11-29 06:59:03     200    GET\n",
       "4   10.131.2.1 2017-11-29 06:59:04     200    GET\n",
       "5   10.130.2.1 2017-11-29 06:59:06     200    GET"
      ]
     },
     "execution_count": 18,
     "metadata": {},
     "output_type": "execute_result"
    }
   ],
   "source": [
    "# Rešitev\n",
    "#Povežemo se na bazo logs.db\n",
    "engine = create_engine('sqlite:///data/logs.db')\n",
    "\n",
    "#v DataFrame preberemo celotno tabelo weblog in nastavimo stolpec id za index\n",
    "weblogs = pd.read_sql_table('weblog', engine, index_col = 'id')\n",
    "\n",
    "#prikaz prvih 5 vrstic\n",
    "weblogs.head(5)\n"
   ]
  },
  {
   "cell_type": "code",
   "execution_count": null,
   "metadata": {},
   "outputs": [],
   "source": [
    "\n"
   ]
  },
  {
   "cell_type": "code",
   "execution_count": null,
   "metadata": {},
   "outputs": [],
   "source": []
  },
  {
   "cell_type": "markdown",
   "metadata": {},
   "source": [
    "Najdite najpogostejši `ip`.\n",
    "DataFramu dodajte stolpec `Ban`. Če vrstica vsebuje najpogostejši ip naj bo v `Ban` stolpcu vrednost `True`, drugače naj bo vrenost `False`."
   ]
  },
  {
   "cell_type": "code",
   "execution_count": 19,
   "metadata": {},
   "outputs": [
    {
     "data": {
      "text/plain": [
       "'10.131.2.1'"
      ]
     },
     "execution_count": 19,
     "metadata": {},
     "output_type": "execute_result"
    }
   ],
   "source": [
    "# Rešitev\n",
    "\n",
    "#Najpogosteši IP\n",
    "weblogs['ip'].value_counts().idxmax()"
   ]
  },
  {
   "cell_type": "code",
   "execution_count": 20,
   "metadata": {},
   "outputs": [],
   "source": [
    "#Dodamo stolpec Ban\n",
    "weblogs['Ban'] = weblogs['ip'] == weblogs['ip'].value_counts().idxmax()"
   ]
  },
  {
   "cell_type": "code",
   "execution_count": 21,
   "metadata": {},
   "outputs": [
    {
     "data": {
      "text/html": [
       "<div>\n",
       "<style scoped>\n",
       "    .dataframe tbody tr th:only-of-type {\n",
       "        vertical-align: middle;\n",
       "    }\n",
       "\n",
       "    .dataframe tbody tr th {\n",
       "        vertical-align: top;\n",
       "    }\n",
       "\n",
       "    .dataframe thead th {\n",
       "        text-align: right;\n",
       "    }\n",
       "</style>\n",
       "<table border=\"1\" class=\"dataframe\">\n",
       "  <thead>\n",
       "    <tr style=\"text-align: right;\">\n",
       "      <th></th>\n",
       "      <th>ip</th>\n",
       "      <th>timestamp</th>\n",
       "      <th>status</th>\n",
       "      <th>method</th>\n",
       "      <th>Ban</th>\n",
       "    </tr>\n",
       "    <tr>\n",
       "      <th>id</th>\n",
       "      <th></th>\n",
       "      <th></th>\n",
       "      <th></th>\n",
       "      <th></th>\n",
       "      <th></th>\n",
       "    </tr>\n",
       "  </thead>\n",
       "  <tbody>\n",
       "    <tr>\n",
       "      <th>1</th>\n",
       "      <td>10.128.2.1</td>\n",
       "      <td>2017-11-29 06:58:55</td>\n",
       "      <td>200</td>\n",
       "      <td>GET</td>\n",
       "      <td>False</td>\n",
       "    </tr>\n",
       "    <tr>\n",
       "      <th>2</th>\n",
       "      <td>10.128.2.1</td>\n",
       "      <td>2017-11-29 06:59:02</td>\n",
       "      <td>302</td>\n",
       "      <td>POST</td>\n",
       "      <td>False</td>\n",
       "    </tr>\n",
       "    <tr>\n",
       "      <th>3</th>\n",
       "      <td>10.128.2.1</td>\n",
       "      <td>2017-11-29 06:59:03</td>\n",
       "      <td>200</td>\n",
       "      <td>GET</td>\n",
       "      <td>False</td>\n",
       "    </tr>\n",
       "    <tr>\n",
       "      <th>4</th>\n",
       "      <td>10.131.2.1</td>\n",
       "      <td>2017-11-29 06:59:04</td>\n",
       "      <td>200</td>\n",
       "      <td>GET</td>\n",
       "      <td>True</td>\n",
       "    </tr>\n",
       "  </tbody>\n",
       "</table>\n",
       "</div>"
      ],
      "text/plain": [
       "            ip           timestamp  status method    Ban\n",
       "id                                                      \n",
       "1   10.128.2.1 2017-11-29 06:58:55     200    GET  False\n",
       "2   10.128.2.1 2017-11-29 06:59:02     302   POST  False\n",
       "3   10.128.2.1 2017-11-29 06:59:03     200    GET  False\n",
       "4   10.131.2.1 2017-11-29 06:59:04     200    GET   True"
      ]
     },
     "execution_count": 21,
     "metadata": {},
     "output_type": "execute_result"
    }
   ],
   "source": [
    "weblogs.head(4)\n"
   ]
  },
  {
   "cell_type": "markdown",
   "metadata": {},
   "source": [
    "DataFrame zapišite v `logs.db` databazo, v `ban_log` tabelo. Če tabela še ne obstaja jo ustvarite.\n",
    "\n",
    "Glede databaznih stolpcev in njihovih data-tipov si pomagajte s spodnjim `dtype_dict`."
   ]
  },
  {
   "cell_type": "code",
   "execution_count": 22,
   "metadata": {},
   "outputs": [],
   "source": [
    "dtype_dict = {'ip': String(15), \n",
    "              'timestamp': DateTime(), \n",
    "              'status': Integer(), \n",
    "              'method': String(10), \n",
    "              'Ban': Boolean()\n",
    "}"
   ]
  },
  {
   "cell_type": "code",
   "execution_count": 23,
   "metadata": {},
   "outputs": [],
   "source": [
    "# Rešitev\n",
    "#Povežemo se na bazo\n",
    "engine = create_engine('sqlite:///data/logs.db')\n",
    "\n",
    "#Sharnimo v tabelo ban_log; če obstaja, jo prepišemo\n",
    "weblogs.to_sql('ban_log', con = engine, if_exists = 'replace', dtype=dtype_dict)\n",
    "\n",
    "\n"
   ]
  },
  {
   "cell_type": "code",
   "execution_count": 24,
   "metadata": {},
   "outputs": [],
   "source": [
    "#preverimo, če je bil uvoz v bazo uspešen, tako, da preberemo nazaj iz baze\n",
    "temp = pd.read_sql_table('ban_log', engine, index_col = 'id')"
   ]
  },
  {
   "cell_type": "code",
   "execution_count": 26,
   "metadata": {},
   "outputs": [
    {
     "data": {
      "text/html": [
       "<div>\n",
       "<style scoped>\n",
       "    .dataframe tbody tr th:only-of-type {\n",
       "        vertical-align: middle;\n",
       "    }\n",
       "\n",
       "    .dataframe tbody tr th {\n",
       "        vertical-align: top;\n",
       "    }\n",
       "\n",
       "    .dataframe thead th {\n",
       "        text-align: right;\n",
       "    }\n",
       "</style>\n",
       "<table border=\"1\" class=\"dataframe\">\n",
       "  <thead>\n",
       "    <tr style=\"text-align: right;\">\n",
       "      <th></th>\n",
       "      <th>ip</th>\n",
       "      <th>timestamp</th>\n",
       "      <th>status</th>\n",
       "      <th>method</th>\n",
       "      <th>Ban</th>\n",
       "    </tr>\n",
       "    <tr>\n",
       "      <th>id</th>\n",
       "      <th></th>\n",
       "      <th></th>\n",
       "      <th></th>\n",
       "      <th></th>\n",
       "      <th></th>\n",
       "    </tr>\n",
       "  </thead>\n",
       "  <tbody>\n",
       "    <tr>\n",
       "      <th>1</th>\n",
       "      <td>10.128.2.1</td>\n",
       "      <td>2017-11-29 06:58:55</td>\n",
       "      <td>200</td>\n",
       "      <td>GET</td>\n",
       "      <td>False</td>\n",
       "    </tr>\n",
       "    <tr>\n",
       "      <th>2</th>\n",
       "      <td>10.128.2.1</td>\n",
       "      <td>2017-11-29 06:59:02</td>\n",
       "      <td>302</td>\n",
       "      <td>POST</td>\n",
       "      <td>False</td>\n",
       "    </tr>\n",
       "    <tr>\n",
       "      <th>3</th>\n",
       "      <td>10.128.2.1</td>\n",
       "      <td>2017-11-29 06:59:03</td>\n",
       "      <td>200</td>\n",
       "      <td>GET</td>\n",
       "      <td>False</td>\n",
       "    </tr>\n",
       "    <tr>\n",
       "      <th>4</th>\n",
       "      <td>10.131.2.1</td>\n",
       "      <td>2017-11-29 06:59:04</td>\n",
       "      <td>200</td>\n",
       "      <td>GET</td>\n",
       "      <td>True</td>\n",
       "    </tr>\n",
       "    <tr>\n",
       "      <th>5</th>\n",
       "      <td>10.130.2.1</td>\n",
       "      <td>2017-11-29 06:59:06</td>\n",
       "      <td>200</td>\n",
       "      <td>GET</td>\n",
       "      <td>False</td>\n",
       "    </tr>\n",
       "  </tbody>\n",
       "</table>\n",
       "</div>"
      ],
      "text/plain": [
       "            ip           timestamp  status method    Ban\n",
       "id                                                      \n",
       "1   10.128.2.1 2017-11-29 06:58:55     200    GET  False\n",
       "2   10.128.2.1 2017-11-29 06:59:02     302   POST  False\n",
       "3   10.128.2.1 2017-11-29 06:59:03     200    GET  False\n",
       "4   10.131.2.1 2017-11-29 06:59:04     200    GET   True\n",
       "5   10.130.2.1 2017-11-29 06:59:06     200    GET  False"
      ]
     },
     "execution_count": 26,
     "metadata": {},
     "output_type": "execute_result"
    }
   ],
   "source": [
    "temp.head(5)"
   ]
  },
  {
   "cell_type": "code",
   "execution_count": null,
   "metadata": {},
   "outputs": [],
   "source": []
  }
 ],
 "metadata": {
  "kernelspec": {
   "display_name": "Python 3",
   "language": "python",
   "name": "python3"
  },
  "language_info": {
   "codemirror_mode": {
    "name": "ipython",
    "version": 3
   },
   "file_extension": ".py",
   "mimetype": "text/x-python",
   "name": "python",
   "nbconvert_exporter": "python",
   "pygments_lexer": "ipython3",
   "version": "3.7.3"
  },
  "toc": {
   "base_numbering": 1,
   "nav_menu": {},
   "number_sections": true,
   "sideBar": true,
   "skip_h1_title": false,
   "title_cell": "Table of Contents",
   "title_sidebar": "Contents",
   "toc_cell": false,
   "toc_position": {},
   "toc_section_display": true,
   "toc_window_display": false
  }
 },
 "nbformat": 4,
 "nbformat_minor": 2
}
