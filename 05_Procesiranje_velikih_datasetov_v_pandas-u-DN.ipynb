{
 "cells": [
  {
   "cell_type": "markdown",
   "metadata": {},
   "source": [
    "# Dataset\n",
    "https://www.kaggle.com/datasnaek/chess"
   ]
  },
  {
   "cell_type": "markdown",
   "metadata": {},
   "source": [
    "Dataset dostopen na linku: https://we.tl/t-HV2GgeaiFa"
   ]
  },
  {
   "cell_type": "code",
   "execution_count": 1,
   "metadata": {},
   "outputs": [],
   "source": [
    "import pandas as pd"
   ]
  },
  {
   "cell_type": "markdown",
   "metadata": {},
   "source": [
    "# White vs Black\n",
    "\n",
    "Iz našega dataseta bomo potegnili informacijo ali se bolj splača biti White ali Black igralec.\n",
    "\n",
    "Chunksize naj bo 250.\n",
    "\n",
    "Stolpec katerega potrebujemo je samo `winner`."
   ]
  },
  {
   "cell_type": "code",
   "execution_count": 2,
   "metadata": {},
   "outputs": [
    {
     "name": "stdout",
     "output_type": "stream",
     "text": [
      "Bolj se splača biti igralec  white .\n"
     ]
    }
   ],
   "source": [
    "chunk_iter = pd.read_csv('data/games.csv',\n",
    "                    chunksize=250, \n",
    "                    usecols = [\"winner\"]\n",
    "                      )\n",
    "\n",
    "winner_list = []\n",
    "for chunk in chunk_iter:\n",
    "    chunk_w = chunk['winner']\n",
    "    winner_list.append(chunk_w)\n",
    "    \n",
    "# združimo in preštejemo vrednosti\n",
    "combined= pd.concat(winner_list).value_counts()\n",
    "\n",
    "\n",
    "print(\"Bolj se splača biti igralec \", combined.index[0], \".\")\n",
    "\n"
   ]
  },
  {
   "cell_type": "code",
   "execution_count": null,
   "metadata": {},
   "outputs": [],
   "source": []
  },
  {
   "cell_type": "markdown",
   "metadata": {},
   "source": [
    "# Ker opening_move je najboljši\n",
    "\n",
    "Iz dataseta bomo potegnili informacijo katera začetna poteza je najboljša, če smo White igralec.\n",
    "\n",
    "V `winner` stolpcu najdemo vrstice v katerih je bil White zmagovalni igralec. Nato iz teh vrstic najdemo začetno potezo (`opening_name`). In na koncu najdemo najbolj igrano začetno potezo."
   ]
  },
  {
   "cell_type": "code",
   "execution_count": 4,
   "metadata": {},
   "outputs": [
    {
     "name": "stdout",
     "output_type": "stream",
     "text": [
      "Najbolj igrana začetna poteza je Scandinavian Defense: Mieses-Kotroc Variation .\n"
     ]
    }
   ],
   "source": [
    "#Ponovno uvozimo podatke, chunksize ostane enak kot zgoraj\n",
    "chunk_iter = pd.read_csv('data/games.csv',\n",
    "                    chunksize=250\n",
    "                      )\n",
    "\n",
    "opening_move_list = []\n",
    "for chunk in chunk_iter:\n",
    "    chunk_w = chunk[chunk['winner']== 'white']['opening_name']\n",
    "    opening_move_list.append(chunk_w)\n",
    "    \n",
    "    \n",
    "combined= pd.concat(opening_move_list).value_counts()\n",
    "\n",
    "\n",
    "print(\"Najbolj igrana začetna poteza je\", combined.index[0], \".\")"
   ]
  },
  {
   "cell_type": "markdown",
   "metadata": {},
   "source": [
    "# Best player\n",
    "\n",
    "Po bomo kateri igralec je bil največkrat zmagovalni.\n"
   ]
  },
  {
   "cell_type": "code",
   "execution_count": 7,
   "metadata": {},
   "outputs": [
    {
     "name": "stdout",
     "output_type": "stream",
     "text": [
      "Najboljši igralec je taranga .\n"
     ]
    }
   ],
   "source": [
    "chunk_iter = pd.read_csv('data/games.csv',\n",
    "                    chunksize=250\n",
    "                      )\n",
    "\n",
    "import numpy as np\n",
    "win_player_list= []\n",
    "for chunk in chunk_iter:\n",
    "    for i,row in chunk.iterrows(): #za vsako igro shranimo zmagovalca, na koncu preštejemo, kdo se pojavi največkrat\n",
    "        if row['winner']== 'white': \n",
    "            ply = row['white_id']\n",
    "        elif row['winner']== 'black':\n",
    "             ply = row['black_id']\n",
    "        else:\n",
    "            ply = np.nan\n",
    "        win_player_list.append(ply)\n",
    "\n",
    "    \n",
    "win = pd.DataFrame(win_player_list)[0].value_counts()\n",
    "\n",
    "print(\"Najboljši igralec je\", win.index[0], \".\")\n",
    "\n"
   ]
  },
  {
   "cell_type": "code",
   "execution_count": null,
   "metadata": {
    "collapsed": true
   },
   "outputs": [],
   "source": []
  }
 ],
 "metadata": {
  "kernelspec": {
   "display_name": "Python 3",
   "language": "python",
   "name": "python3"
  },
  "language_info": {
   "codemirror_mode": {
    "name": "ipython",
    "version": 3
   },
   "file_extension": ".py",
   "mimetype": "text/x-python",
   "name": "python",
   "nbconvert_exporter": "python",
   "pygments_lexer": "ipython3",
   "version": "3.7.3"
  },
  "toc": {
   "base_numbering": 1,
   "nav_menu": {},
   "number_sections": true,
   "sideBar": true,
   "skip_h1_title": false,
   "title_cell": "Table of Contents",
   "title_sidebar": "Contents",
   "toc_cell": false,
   "toc_position": {},
   "toc_section_display": true,
   "toc_window_display": false
  }
 },
 "nbformat": 4,
 "nbformat_minor": 2
}
