{
 "cells": [
  {
   "cell_type": "markdown",
   "metadata": {},
   "source": [
    "# Del 6: Optimizacija kode za velike datasete"
   ]
  },
  {
   "cell_type": "markdown",
   "metadata": {},
   "source": [
    "Pripravimo datasete:"
   ]
  },
  {
   "cell_type": "code",
   "execution_count": 2,
   "metadata": {},
   "outputs": [],
   "source": [
    "!tar -xJf data/data_del_06.tar.xz -C ./data/"
   ]
  },
  {
   "cell_type": "code",
   "execution_count": 3,
   "metadata": {},
   "outputs": [],
   "source": [
    "import pandas as pd\n",
    "import numpy as np"
   ]
  },
  {
   "cell_type": "markdown",
   "metadata": {},
   "source": [
    "Viri:\n",
    "- [A Beginner’s Guide to Optimizing Pandas Code for Speed](https://engineering.upside.com/a-beginners-guide-to-optimizing-pandas-code-for-speed-c09ef2c6a4d6)\n",
    "- [How to Optimize your Pandas Code](https://kanoki.org/2019/01/09/how-to-optimize-your-pandas-code/)\n",
    "- [Optimization tricks](http://ehneilsen.net/notebook/pandasExamples/pandas_examples.html#orgheadline36)\n",
    "- [Enhancing performance](https://pandas.pydata.org/pandas-docs/stable/user_guide/enhancingperf.html)\n",
    "- [Fast, Flexible, Easy and Intuitive: How to Speed Up Your Pandas Projects](https://realpython.com/fast-flexible-pandas/)\n",
    "- [Optimizing Code Performance On Large Datasets](https://app.dataquest.io/course/improving-code-performance)\n",
    "- [4 Unique Methods to Optimize your Python Code for Data Science](https://www.analyticsvidhya.com/blog/2019/09/4-methods-optimize-python-code-data-science/)\n",
    "- [High-Performance Pandas: eval() and query()](https://jakevdp.github.io/PythonDataScienceHandbook/03.12-performance-eval-and-query.html#pandas.eval()-for-Efficient-Operations)"
   ]
  },
  {
   "cell_type": "markdown",
   "metadata": {},
   "source": [
    "**Code optimization, in simple terms, means reducing the number of operations to execute any task while producing the correct results.**"
   ]
  },
  {
   "cell_type": "markdown",
   "metadata": {},
   "source": [
    "## CPU Bound Programs\n",
    "\n",
    "### Bounds vs Limitations"
   ]
  },
  {
   "cell_type": "markdown",
   "metadata": {},
   "source": [
    "<img alt=\"I/O bounds\" src=\"images/CPU+and+I_O+bounds.png\">"
   ]
  },
  {
   "cell_type": "code",
   "execution_count": null,
   "metadata": {},
   "outputs": [],
   "source": [
    "#poznamo dvojne omejitve:\n",
    "#1. CPU bound: omejtive pri procesu, pomenijo, kako hitro se naša koda izvaja; potimizacija kode pomaga\n",
    "#2. I/O bound: input/output bound: zunanje omejitve, recimo ko beremo  vsakič iz enega csvja (to je počasnejše kot če bi \n",
    "#    imeli v pomnilniku); branje  iz zunanjih virov; hitrost odvisna od zunanjih dejavnikov; poskusimo čimveć stvari \n",
    "#shraniti v pomnilnik in čimmanjkrat rat iz zunanjoh virov\n"
   ]
  },
  {
   "cell_type": "markdown",
   "metadata": {},
   "source": [
    "### Primer optimizacije"
   ]
  },
  {
   "cell_type": "code",
   "execution_count": 4,
   "metadata": {},
   "outputs": [],
   "source": [
    "import numpy as np\n",
    "\n",
    "# Define a basic Haversine distance formula\n",
    "def haversine(lat1, lon1, lat2, lon2):\n",
    "    MILES = 3959\n",
    "    lat1, lon1, lat2, lon2 = map(np.deg2rad, [lat1, lon1, lat2, lon2])\n",
    "    dlat = lat2 - lat1 \n",
    "    dlon = lon2 - lon1 \n",
    "    a = np.sin(dlat/2)**2 + np.cos(lat1) * np.cos(lat2) * np.sin(dlon/2)**2\n",
    "    c = 2 * np.arcsin(np.sqrt(a)) \n",
    "    total_miles = MILES * c\n",
    "    return total_miles"
   ]
  },
  {
   "cell_type": "code",
   "execution_count": 5,
   "metadata": {},
   "outputs": [],
   "source": [
    "df = pd.read_csv('data/new_york_hotels.csv')"
   ]
  },
  {
   "cell_type": "code",
   "execution_count": 6,
   "metadata": {},
   "outputs": [
    {
     "data": {
      "text/html": [
       "<div>\n",
       "<style scoped>\n",
       "    .dataframe tbody tr th:only-of-type {\n",
       "        vertical-align: middle;\n",
       "    }\n",
       "\n",
       "    .dataframe tbody tr th {\n",
       "        vertical-align: top;\n",
       "    }\n",
       "\n",
       "    .dataframe thead th {\n",
       "        text-align: right;\n",
       "    }\n",
       "</style>\n",
       "<table border=\"1\" class=\"dataframe\">\n",
       "  <thead>\n",
       "    <tr style=\"text-align: right;\">\n",
       "      <th></th>\n",
       "      <th>ean_hotel_id</th>\n",
       "      <th>name</th>\n",
       "      <th>address1</th>\n",
       "      <th>city</th>\n",
       "      <th>state_province</th>\n",
       "      <th>postal_code</th>\n",
       "      <th>latitude</th>\n",
       "      <th>longitude</th>\n",
       "      <th>star_rating</th>\n",
       "      <th>high_rate</th>\n",
       "      <th>low_rate</th>\n",
       "    </tr>\n",
       "  </thead>\n",
       "  <tbody>\n",
       "    <tr>\n",
       "      <th>0</th>\n",
       "      <td>269955</td>\n",
       "      <td>Hilton Garden Inn Albany/SUNY Area</td>\n",
       "      <td>1389 Washington Ave</td>\n",
       "      <td>Albany</td>\n",
       "      <td>NY</td>\n",
       "      <td>12206</td>\n",
       "      <td>42.68751</td>\n",
       "      <td>-73.81643</td>\n",
       "      <td>3.0</td>\n",
       "      <td>154.0272</td>\n",
       "      <td>124.0216</td>\n",
       "    </tr>\n",
       "    <tr>\n",
       "      <th>1</th>\n",
       "      <td>113431</td>\n",
       "      <td>Courtyard by Marriott Albany Thruway</td>\n",
       "      <td>1455 Washington Avenue</td>\n",
       "      <td>Albany</td>\n",
       "      <td>NY</td>\n",
       "      <td>12206</td>\n",
       "      <td>42.68971</td>\n",
       "      <td>-73.82021</td>\n",
       "      <td>3.0</td>\n",
       "      <td>179.0100</td>\n",
       "      <td>134.0000</td>\n",
       "    </tr>\n",
       "    <tr>\n",
       "      <th>2</th>\n",
       "      <td>108151</td>\n",
       "      <td>Radisson Hotel Albany</td>\n",
       "      <td>205 Wolf Rd</td>\n",
       "      <td>Albany</td>\n",
       "      <td>NY</td>\n",
       "      <td>12205</td>\n",
       "      <td>42.72410</td>\n",
       "      <td>-73.79822</td>\n",
       "      <td>3.0</td>\n",
       "      <td>134.1700</td>\n",
       "      <td>84.1600</td>\n",
       "    </tr>\n",
       "    <tr>\n",
       "      <th>3</th>\n",
       "      <td>254756</td>\n",
       "      <td>Hilton Garden Inn Albany Medical Center</td>\n",
       "      <td>62 New Scotland Ave</td>\n",
       "      <td>Albany</td>\n",
       "      <td>NY</td>\n",
       "      <td>12208</td>\n",
       "      <td>42.65157</td>\n",
       "      <td>-73.77638</td>\n",
       "      <td>3.0</td>\n",
       "      <td>308.2807</td>\n",
       "      <td>228.4597</td>\n",
       "    </tr>\n",
       "    <tr>\n",
       "      <th>4</th>\n",
       "      <td>198232</td>\n",
       "      <td>CrestHill Suites SUNY University Albany</td>\n",
       "      <td>1415 Washington Avenue</td>\n",
       "      <td>Albany</td>\n",
       "      <td>NY</td>\n",
       "      <td>12206</td>\n",
       "      <td>42.68873</td>\n",
       "      <td>-73.81854</td>\n",
       "      <td>3.0</td>\n",
       "      <td>169.3900</td>\n",
       "      <td>89.3900</td>\n",
       "    </tr>\n",
       "  </tbody>\n",
       "</table>\n",
       "</div>"
      ],
      "text/plain": [
       "   ean_hotel_id                                     name  \\\n",
       "0        269955       Hilton Garden Inn Albany/SUNY Area   \n",
       "1        113431     Courtyard by Marriott Albany Thruway   \n",
       "2        108151                    Radisson Hotel Albany   \n",
       "3        254756  Hilton Garden Inn Albany Medical Center   \n",
       "4        198232  CrestHill Suites SUNY University Albany   \n",
       "\n",
       "                 address1    city state_province postal_code  latitude  \\\n",
       "0     1389 Washington Ave  Albany             NY       12206  42.68751   \n",
       "1  1455 Washington Avenue  Albany             NY       12206  42.68971   \n",
       "2             205 Wolf Rd  Albany             NY       12205  42.72410   \n",
       "3     62 New Scotland Ave  Albany             NY       12208  42.65157   \n",
       "4  1415 Washington Avenue  Albany             NY       12206  42.68873   \n",
       "\n",
       "   longitude  star_rating  high_rate  low_rate  \n",
       "0  -73.81643          3.0   154.0272  124.0216  \n",
       "1  -73.82021          3.0   179.0100  134.0000  \n",
       "2  -73.79822          3.0   134.1700   84.1600  \n",
       "3  -73.77638          3.0   308.2807  228.4597  \n",
       "4  -73.81854          3.0   169.3900   89.3900  "
      ]
     },
     "execution_count": 6,
     "metadata": {},
     "output_type": "execute_result"
    }
   ],
   "source": [
    "df.head()"
   ]
  },
  {
   "cell_type": "code",
   "execution_count": 7,
   "metadata": {},
   "outputs": [
    {
     "name": "stdout",
     "output_type": "stream",
     "text": [
      "<class 'pandas.core.frame.DataFrame'>\n",
      "RangeIndex: 1631 entries, 0 to 1630\n",
      "Data columns (total 11 columns):\n",
      "ean_hotel_id      1631 non-null int64\n",
      "name              1631 non-null object\n",
      "address1          1631 non-null object\n",
      "city              1631 non-null object\n",
      "state_province    1631 non-null object\n",
      "postal_code       1631 non-null object\n",
      "latitude          1631 non-null float64\n",
      "longitude         1631 non-null float64\n",
      "star_rating       1630 non-null float64\n",
      "high_rate         1631 non-null float64\n",
      "low_rate          1631 non-null float64\n",
      "dtypes: float64(5), int64(1), object(5)\n",
      "memory usage: 140.2+ KB\n"
     ]
    }
   ],
   "source": [
    "df.info()"
   ]
  },
  {
   "cell_type": "code",
   "execution_count": null,
   "metadata": {},
   "outputs": [],
   "source": [
    "#gremo od najslabšega načina do najboljšega:"
   ]
  },
  {
   "cell_type": "markdown",
   "metadata": {},
   "source": [
    "#### Crude looping over DataFrame rows using indices"
   ]
  },
  {
   "cell_type": "code",
   "execution_count": 8,
   "metadata": {},
   "outputs": [],
   "source": [
    "#1. gremo z zanko čez vse vrstice\n",
    "# Define a function to manually loop over all rows and return a series of distances\n",
    "def haversine_looping(df):\n",
    "    distance_list = []\n",
    "    for i in range(0, len(df)):\n",
    "        d = haversine(40.671, -73.985, df.iloc[i]['latitude'], df.iloc[i]['longitude'])\n",
    "        distance_list.append(d)\n",
    "        \n",
    "    return distance_list"
   ]
  },
  {
   "cell_type": "code",
   "execution_count": 9,
   "metadata": {},
   "outputs": [
    {
     "name": "stdout",
     "output_type": "stream",
     "text": [
      "1.02 s ± 6.46 ms per loop (mean ± std. dev. of 7 runs, 1 loop each)\n"
     ]
    }
   ],
   "source": [
    "%%timeit\n",
    "# Run the haversine looping function\n",
    "df['distance'] = haversine_looping(df)"
   ]
  },
  {
   "cell_type": "code",
   "execution_count": null,
   "metadata": {},
   "outputs": [],
   "source": [
    "#for zanke so najslabša rešitev: \n",
    "# for zanka ima zahtevnost O(n^2)\n",
    "#vgnezdena for zanka ima zahtevnost O(n^3)\n",
    "#funkcije ki imajo zahtevnost več od kvadratne, običajno niso dobre, so prepočasne"
   ]
  },
  {
   "cell_type": "markdown",
   "metadata": {},
   "source": [
    "#### Looping with iterrows()"
   ]
  },
  {
   "cell_type": "code",
   "execution_count": 11,
   "metadata": {},
   "outputs": [
    {
     "name": "stdout",
     "output_type": "stream",
     "text": [
      "342 ms ± 19 ms per loop (mean ± std. dev. of 7 runs, 1 loop each)\n"
     ]
    }
   ],
   "source": [
    "%%timeit\n",
    "# Haversine applied on rows via iteration\n",
    "haversine_series = []\n",
    "\n",
    "for index, row in df.iterrows():\n",
    "    haversine_series.append(haversine(40.671, -73.985, row['latitude'], row['longitude']))\n",
    "\n",
    "\n",
    "df['distance'] = haversine_series"
   ]
  },
  {
   "cell_type": "code",
   "execution_count": null,
   "metadata": {},
   "outputs": [],
   "source": []
  },
  {
   "cell_type": "markdown",
   "metadata": {},
   "source": [
    "#### Looping with apply()"
   ]
  },
  {
   "cell_type": "code",
   "execution_count": 13,
   "metadata": {},
   "outputs": [
    {
     "name": "stdout",
     "output_type": "stream",
     "text": [
      "151 ms ± 2.85 ms per loop (mean ± std. dev. of 7 runs, 1 loop each)\n"
     ]
    }
   ],
   "source": [
    "%%timeit\n",
    "# Timing apply on the Haversine function\n",
    "\n",
    "#apply priredi eno funkcijo vsaki vrstici\n",
    "#najboljša možnost(najbolj optimizirana),če moramo delati z zankami\n",
    "\n",
    "df['distance'] = df.apply(lambda row: haversine(40.671, -73.985, row['latitude'], row['longitude']), axis = 1)"
   ]
  },
  {
   "cell_type": "code",
   "execution_count": null,
   "metadata": {},
   "outputs": [],
   "source": [
    "#looping je še vedno slab, če se le da, se mu izognemo"
   ]
  },
  {
   "cell_type": "markdown",
   "metadata": {},
   "source": [
    "#### Vectorization with Pandas series"
   ]
  },
  {
   "cell_type": "code",
   "execution_count": 14,
   "metadata": {},
   "outputs": [
    {
     "name": "stdout",
     "output_type": "stream",
     "text": [
      "3.78 ms ± 57.5 µs per loop (mean ± std. dev. of 7 runs, 100 loops each)\n"
     ]
    }
   ],
   "source": [
    "%%timeit \n",
    "# Vectorized implementation of Haversine applied on Pandas series\n",
    "\n",
    "#Vektorizacija: več elemntov lahko obdela hkrati\n",
    "#funkciji podamo kar cel stolpec, numpy potem poskrbi za \"loopanje\"\n",
    "df['distance'] = haversine(40.671, -73.985, df['latitude'], df['longitude'])\n"
   ]
  },
  {
   "cell_type": "markdown",
   "metadata": {},
   "source": [
    "####  Vectorization with NumPy arrays"
   ]
  },
  {
   "cell_type": "code",
   "execution_count": 15,
   "metadata": {},
   "outputs": [
    {
     "data": {
      "text/plain": [
       "numpy.ndarray"
      ]
     },
     "execution_count": 15,
     "metadata": {},
     "output_type": "execute_result"
    }
   ],
   "source": [
    "type(df['latitude'].values)"
   ]
  },
  {
   "cell_type": "code",
   "execution_count": 16,
   "metadata": {},
   "outputs": [
    {
     "data": {
      "text/plain": [
       "pandas.core.series.Series"
      ]
     },
     "execution_count": 16,
     "metadata": {},
     "output_type": "execute_result"
    }
   ],
   "source": [
    "type(df['latitude'])"
   ]
  },
  {
   "cell_type": "code",
   "execution_count": 17,
   "metadata": {},
   "outputs": [
    {
     "name": "stdout",
     "output_type": "stream",
     "text": [
      "491 µs ± 6.28 µs per loop (mean ± std. dev. of 7 runs, 1000 loops each)\n"
     ]
    }
   ],
   "source": [
    "%%timeit\n",
    "# Vectorized implementation of Haversine applied on NumPy arrays\n",
    "\n",
    "#v prejšnjem primeru je pretvoril v numpy objekte, sedaj mu pa že podamo numpy, da ne rabi nič pretvarjat\n",
    "#vse operacije v pythonu se najhitreje izvajajo nad ndarrrayi (nad numpy objekti), hitreje ne gre\n",
    "df['distance'] = haversine(40.671, -73.985, df['latitude'].values, df['longitude'].values)"
   ]
  },
  {
   "cell_type": "code",
   "execution_count": null,
   "metadata": {},
   "outputs": [],
   "source": [
    "#POVZETEK:\n",
    "#1. izogni se loopanju\n",
    "#2. če že moraš loopati, uporabi apply\n",
    "#3. vektorzacija je hitrejša od loopanja\n",
    "#4. vektorizacija numpy objektov je najhitrejša"
   ]
  },
  {
   "cell_type": "markdown",
   "metadata": {},
   "source": [
    "This brings us to a few basic conclusions on optimizing Pandas code:\n",
    "1. Avoid loops; they’re slow and, in most common use cases, unnecessary.\n",
    "2. If you must loop, use apply(), not iteration functions.\n",
    "3. Vectorization is usually better than scalar operations. Most common operations in Pandas can be vectorized.\n",
    "4. Vector operations on NumPy arrays are more efficient than on native Pandas series."
   ]
  },
  {
   "cell_type": "markdown",
   "metadata": {},
   "source": [
    "## I/O Bound Programs"
   ]
  },
  {
   "cell_type": "markdown",
   "metadata": {},
   "source": [
    "### I/O Bounds"
   ]
  },
  {
   "cell_type": "markdown",
   "metadata": {},
   "source": [
    "<img src=\"./images/report_assembly.png\">"
   ]
  },
  {
   "cell_type": "markdown",
   "metadata": {},
   "source": [
    "<img src=\"./images/report_assembly_bidir.png\">"
   ]
  },
  {
   "cell_type": "markdown",
   "metadata": {},
   "source": [
    "I/O bound tasks are tasks where:\n",
    "- Our program is reading from an input (like a CSV file).\n",
    "- Our program is writing to an output (like a text file).\n",
    "- Our program is waiting for another program to execute something (like a SQL query).\n",
    "- Our program is waiting for another server to execute something (like an API request).\n",
    "\n"
   ]
  },
  {
   "cell_type": "code",
   "execution_count": null,
   "metadata": {},
   "outputs": [],
   "source": [
    "#če imaš malo podatkov, se splača vse naenkrat dat v pomnilnik, da samo enkrat beremo iz zunanjega vira"
   ]
  },
  {
   "cell_type": "markdown",
   "metadata": {},
   "source": [
    "### Profiling an I/O bound task"
   ]
  },
  {
   "cell_type": "code",
   "execution_count": null,
   "metadata": {},
   "outputs": [],
   "source": [
    "#python program se izvaja na enem jedru\n",
    "#obstajajo knjižnice, s katereimi se python izvaja na več jedrih\n",
    "#za multiprocessing python ni najboljši\n"
   ]
  },
  {
   "cell_type": "code",
   "execution_count": 18,
   "metadata": {},
   "outputs": [],
   "source": [
    "query = '''\n",
    "SELECT DISTINCT teamID \n",
    "FROM Teams \n",
    "INNER JOIN TeamsFranchises ON Teams.franchID == TeamsFranchises.franchID \n",
    "WHERE TeamsFranchises.active = 'Y';\n",
    "'''"
   ]
  },
  {
   "cell_type": "code",
   "execution_count": 19,
   "metadata": {},
   "outputs": [],
   "source": [
    "import cProfile\n",
    "import sqlite3\n",
    "\n",
    "conn = sqlite3.connect(\"data/lahman2015.sqlite\")\n",
    "\n",
    "cur = conn.cursor()\n",
    "teams = [row[0] for row in cur.execute(query).fetchall()]"
   ]
  },
  {
   "cell_type": "code",
   "execution_count": 20,
   "metadata": {},
   "outputs": [
    {
     "name": "stdout",
     "output_type": "stream",
     "text": [
      "['BSN', 'CHN', 'CN2', 'PT1', 'SL4', 'NY1', 'PHI', 'BR3', 'PIT', 'BRO', 'CIN', 'SLN', 'BLA', 'BOS', 'CHA', 'CLE', 'DET', 'MLA', 'PHA', 'WS1', 'SLA', 'NYA', 'ML1', 'BAL', 'KC1', 'LAN', 'SFN', 'LAA', 'MIN', 'WS2', 'HOU', 'NYN', 'CAL', 'ATL', 'OAK', 'KCA', 'SE1', 'MON', 'SDN', 'ML4', 'TEX', 'SEA', 'TOR', 'COL', 'FLO', 'ANA', 'TBA', 'ARI', 'MIL', 'WAS', 'MIA']\n"
     ]
    }
   ],
   "source": [
    "print(teams)"
   ]
  },
  {
   "cell_type": "code",
   "execution_count": 21,
   "metadata": {},
   "outputs": [],
   "source": [
    "import cProfile\n",
    "import sqlite3\n",
    "\n",
    "#ekipo po ekipo gremo in appendamo rezultate\n",
    "\n",
    "query = \"SELECT SUM(HR) FROM Batting WHERE teamId=?\"\n",
    "conn = sqlite3.connect(\"data/lahman2015.sqlite\")\n",
    "cur = conn.cursor()\n",
    "\n",
    "def calculate_runs(teams):\n",
    "    home_runs = []\n",
    "    for team in teams:\n",
    "        runs = cur.execute(query, [team]).fetchall()\n",
    "        runs = runs[0][0]\n",
    "        home_runs.append(runs)\n",
    "    return home_runs"
   ]
  },
  {
   "cell_type": "code",
   "execution_count": 22,
   "metadata": {},
   "outputs": [
    {
     "name": "stdout",
     "output_type": "stream",
     "text": [
      "102 ms ± 5.8 ms per loop (mean ± std. dev. of 7 runs, 10 loops each)\n"
     ]
    }
   ],
   "source": [
    "%%timeit\n",
    "home_runs = calculate_runs(teams)"
   ]
  },
  {
   "cell_type": "code",
   "execution_count": 23,
   "metadata": {},
   "outputs": [],
   "source": [
    "#profiliramo kodo\n",
    "profile_string = \"home_runs = calculate_runs(teams)\""
   ]
  },
  {
   "cell_type": "code",
   "execution_count": 24,
   "metadata": {},
   "outputs": [
    {
     "name": "stdout",
     "output_type": "stream",
     "text": [
      "         157 function calls in 0.119 seconds\n",
      "\n",
      "   Ordered by: standard name\n",
      "\n",
      "   ncalls  tottime  percall  cumtime  percall filename:lineno(function)\n",
      "        1    0.000    0.000    0.119    0.119 <ipython-input-21-301377ae2693>:10(calculate_runs)\n",
      "        1    0.000    0.000    0.119    0.119 <string>:1(<module>)\n",
      "        1    0.000    0.000    0.119    0.119 {built-in method builtins.exec}\n",
      "       51    0.000    0.000    0.000    0.000 {method 'append' of 'list' objects}\n",
      "        1    0.000    0.000    0.000    0.000 {method 'disable' of '_lsprof.Profiler' objects}\n",
      "       51    0.118    0.002    0.118    0.002 {method 'execute' of 'sqlite3.Cursor' objects}\n",
      "       51    0.000    0.000    0.000    0.000 {method 'fetchall' of 'sqlite3.Cursor' objects}\n",
      "\n",
      "\n"
     ]
    }
   ],
   "source": [
    "#cProfile nam pove, kateri del porabi kolko časa\n",
    "cProfile.run(profile_string)"
   ]
  },
  {
   "cell_type": "code",
   "execution_count": null,
   "metadata": {},
   "outputs": [],
   "source": [
    "#največ časa porabi execute del"
   ]
  },
  {
   "cell_type": "markdown",
   "metadata": {},
   "source": [
    "### Blocking Tasks"
   ]
  },
  {
   "cell_type": "markdown",
   "metadata": {},
   "source": [
    "```python\n",
    "51    0.120    0.002    0.120    0.002 {method 'execute' of 'sqlite3.Cursor' objects}\n",
    "```"
   ]
  },
  {
   "cell_type": "markdown",
   "metadata": {},
   "source": [
    "```python\n",
    "conn = sqlite3.connect(':memory:')\n",
    "```"
   ]
  },
  {
   "cell_type": "code",
   "execution_count": 25,
   "metadata": {},
   "outputs": [],
   "source": [
    "import sqlite3\n",
    "\n",
    "# Create an in memory database.\n",
    "memory = sqlite3.connect(':memory:')\n",
    "\n",
    "# Connect to our disk database.\n",
    "disk = sqlite3.connect('data/lahman2015.sqlite')\n",
    "\n",
    "# Create a query that will read the contents of the disk database \n",
    "# into another database.\n",
    "dump = ''.join(line for line in disk.iterdump())\n",
    "\n",
    "# Run the query to copy the database from disk into memory.\n",
    "memory.executescript(dump)\n",
    "\n",
    "cur = memory.cursor()"
   ]
  },
  {
   "cell_type": "code",
   "execution_count": 26,
   "metadata": {},
   "outputs": [
    {
     "data": {
      "text/plain": [
       "'BEGIN TRANSACTION;CREATE TABLE AllstarFull (\\nplayerID TEXT,\\nyearID INTEGER,\\ngameNum INTEGER,\\ngameID TEXT,\\nteamID TEXT,\\nlgID TEXT,\\nGP INTEGER,\\nstartingPos INTEGER\\n);INSERT INTO \"AllstarFull\" VALUES(\\'aaronha01\\',1955,0,\\'NLS195507120\\',\\'ML1\\',\\'NL\\',1,NULL);INSERT INTO \"AllstarFull\" VALUES(\\'aaronha01\\',1956,0,\\'ALS195607100\\',\\'ML1\\',\\'NL\\',1,NULL);INSERT INTO \"AllstarFull\" VALUES(\\'aaronha01\\',1957,0,\\'NLS195707090\\',\\'ML1\\',\\'NL\\',1,9);INSERT INTO \"AllstarFull\" VALUES(\\'aaronha01\\',1958,0,\\'ALS195807080\\',\\'ML1\\',\\'NL\\',1,9);INSERT INTO \"AllstarFull\" VALUES(\\'aaronha01\\',1959,1,\\'NLS195907070\\',\\'ML1\\',\\'NL\\',1,9);INSERT INTO \"AllstarFull\" VALUES(\\'aaronha01\\',1959,2,\\'NLS195908030\\',\\'ML1\\',\\'NL\\',1,9);INSERT INTO \"AllstarFull\" VALUES(\\'aaronha01\\',1960,1,\\'ALS196007110\\',\\'ML1\\',\\'NL\\',1,9);INSERT INTO \"AllstarFull\" VALUES(\\'aaronha01\\',1960,2,\\'ALS196007130\\',\\'ML1\\',\\'NL\\',1,9);INSERT INTO \"AllstarFull\" VALUES(\\'aaronha01\\',1961,1,\\'NLS196107110\\',\\'ML1\\',\\'NL\\',1,NULL);INSERT INTO \"AllstarFull\" VALUES(\\'aaronha01\\',1961,2,\\'ALS196107310\\',\\'ML1\\',\\'NL\\',1,'"
      ]
     },
     "execution_count": 26,
     "metadata": {},
     "output_type": "execute_result"
    }
   ],
   "source": [
    "dump[:1000]"
   ]
  },
  {
   "cell_type": "code",
   "execution_count": 27,
   "metadata": {},
   "outputs": [],
   "source": [
    "import cProfile\n",
    "import sqlite3\n",
    "\n",
    "query = \"SELECT SUM(HR) FROM Batting WHERE teamId=?\"\n",
    "\n",
    "def calculate_runs(teams):\n",
    "    home_runs = []\n",
    "    for team in teams:\n",
    "        runs = cur.execute(query, [team]).fetchall()\n",
    "        runs = runs[0][0]\n",
    "        home_runs.append(runs)\n",
    "    return home_runs"
   ]
  },
  {
   "cell_type": "code",
   "execution_count": 28,
   "metadata": {},
   "outputs": [
    {
     "name": "stdout",
     "output_type": "stream",
     "text": [
      "         157 function calls in 0.061 seconds\n",
      "\n",
      "   Ordered by: standard name\n",
      "\n",
      "   ncalls  tottime  percall  cumtime  percall filename:lineno(function)\n",
      "        1    0.000    0.000    0.061    0.061 <ipython-input-27-0ca12a0b9230>:6(calculate_runs)\n",
      "        1    0.000    0.000    0.061    0.061 <string>:1(<module>)\n",
      "        1    0.000    0.000    0.061    0.061 {built-in method builtins.exec}\n",
      "       51    0.000    0.000    0.000    0.000 {method 'append' of 'list' objects}\n",
      "        1    0.000    0.000    0.000    0.000 {method 'disable' of '_lsprof.Profiler' objects}\n",
      "       51    0.061    0.001    0.061    0.001 {method 'execute' of 'sqlite3.Cursor' objects}\n",
      "       51    0.000    0.000    0.000    0.000 {method 'fetchall' of 'sqlite3.Cursor' objects}\n",
      "\n",
      "\n"
     ]
    }
   ],
   "source": [
    "profile_string = \"home_runs = calculate_runs(teams)\"\n",
    "cProfile.run(profile_string)"
   ]
  },
  {
   "cell_type": "markdown",
   "metadata": {},
   "source": [
    "### Parallel Execution"
   ]
  },
  {
   "cell_type": "markdown",
   "metadata": {},
   "source": [
    "<img src=\"./images/single_threaded.png\">"
   ]
  },
  {
   "cell_type": "markdown",
   "metadata": {},
   "source": [
    " What if, instead, we could run several queries at once? It might look like this:"
   ]
  },
  {
   "cell_type": "markdown",
   "metadata": {},
   "source": [
    "<img src=\"./images/multi_threaded.png\">"
   ]
  },
  {
   "cell_type": "markdown",
   "metadata": {},
   "source": [
    "We can use the Python 3 [threading library](https://docs.python.org/3/library/threading.html) to implement threading in our programs."
   ]
  },
  {
   "cell_type": "code",
   "execution_count": 30,
   "metadata": {},
   "outputs": [],
   "source": [
    "def task(team):\n",
    "    print(team)\n",
    "    "
   ]
  },
  {
   "cell_type": "code",
   "execution_count": 33,
   "metadata": {},
   "outputs": [
    {
     "name": "stdout",
     "output_type": "stream",
     "text": [
      "['BSN', 'CHN', 'CN2', 'PT1', 'SL4', 'NY1', 'PHI', 'BR3', 'PIT', 'BRO', 'CIN', 'SLN', 'BLA', 'BOS', 'CHA', 'CLE', 'DET', 'MLA', 'PHA', 'WS1', 'SLA', 'NYA', 'ML1', 'BAL', 'KC1', 'LAN', 'SFN', 'LAA', 'MIN', 'WS2', 'HOU', 'NYN', 'CAL', 'ATL', 'OAK', 'KCA', 'SE1', 'MON', 'SDN', 'ML4', 'TEX', 'SEA', 'TOR', 'COL', 'FLO', 'ANA', 'TBA', 'ARI', 'MIL', 'WAS', 'MIA']\n"
     ]
    }
   ],
   "source": [
    "import threading\n",
    "\n",
    "thread = threading.Thread(target=task,args=(teams,)) #za teams moramo dat vejico, da ostane tuple!\n",
    "thread.start()"
   ]
  },
  {
   "cell_type": "code",
   "execution_count": 32,
   "metadata": {},
   "outputs": [
    {
     "name": "stdout",
     "output_type": "stream",
     "text": [
      "BSN\n",
      "Started task 0\n",
      "CHNStarted task 1\n",
      "\n",
      "CN2\n",
      "Started task 2\n",
      "PT1\n",
      "Started task 3\n",
      "SL4\n",
      "Started task 4\n",
      "NY1Started task 5\n",
      "PHI\n",
      "Started task 6\n",
      "BR3\n",
      "Started task 7\n",
      "PIT\n",
      "Started task 8\n",
      "BRO\n",
      "Started task 9\n",
      "CIN\n",
      "Started task 10\n",
      "\n",
      "SLN\n",
      "Started task 11\n",
      "BLAStarted task 12\n",
      "\n",
      "BOS\n",
      "Started task 13\n",
      "CHAStarted task 14\n",
      "CLE\n",
      "Started task 15\n",
      "\n",
      "DET\n",
      "Started task 16\n",
      "MLAStarted task 17\n",
      "PHA\n",
      "Started task 18\n",
      "WS1\n",
      "Started task 19\n",
      "\n",
      "SLA\n",
      "Started task 20\n",
      "NYAStarted task 21\n",
      "\n",
      "ML1\n",
      "Started task 22\n",
      "BALStarted task 23\n",
      "\n",
      "KC1\n",
      "Started task 24\n",
      "LANStarted task 25\n",
      "\n",
      "SFN\n",
      "Started task 26\n",
      "LAAStarted task 27\n",
      "\n",
      "MIN\n",
      "Started task 28\n",
      "WS2Started task 29\n",
      "\n",
      "HOU\n",
      "Started task 30\n",
      "NYNStarted task 31\n",
      "\n",
      "CAL\n",
      "Started task 32\n",
      "ATLStarted task 33\n",
      "OAK\n",
      "Started task 34\n",
      "\n",
      "KCA\n",
      "Started task 35\n",
      "SE1Started task 36\n",
      "\n",
      "MON\n",
      "Started task 37\n",
      "SDNStarted task 38\n",
      "ML4\n",
      "Started task 39\n",
      "\n",
      "TEX\n",
      "Started task 40\n",
      "SEAStarted task 41\n",
      "\n",
      "TOR\n",
      "Started task 42\n",
      "COLStarted task 43\n",
      "\n",
      "FLO\n",
      "Started task 44\n",
      "ANAStarted task 45\n",
      "\n",
      "TBA\n",
      "Started task 46\n",
      "ARIStarted task 47\n",
      "\n",
      "MIL\n",
      "Started task 48\n",
      "WASStarted task 49\n",
      "\n",
      "MIA\n",
      "Started task 50\n"
     ]
    }
   ],
   "source": [
    "def task(team):\n",
    "    print(team)\n",
    "    \n",
    "#naredi več threadov, ki ne počakajo vedno, da prejšnji konča\n",
    "for n, team in enumerate(teams):\n",
    "    thread = threading.Thread(target=task, args=(team,))\n",
    "    thread.start()\n",
    "    #ta print pa čaka, da se prejšnji konča\n",
    "    print('Started task', n)\n",
    "    \n",
    "#ker en print čaka, en pa ne, niammo lepega izpisa"
   ]
  },
  {
   "cell_type": "markdown",
   "metadata": {},
   "source": [
    "### Thread Blocking"
   ]
  },
  {
   "cell_type": "markdown",
   "metadata": {},
   "source": [
    "<img src=\"./images/three_threads.svg\">"
   ]
  },
  {
   "cell_type": "code",
   "execution_count": 34,
   "metadata": {},
   "outputs": [
    {
     "name": "stdout",
     "output_type": "stream",
     "text": [
      "Started task 0\n",
      "Started task 1\n",
      "Started task 2\n",
      "Started task 3\n",
      "Started task 4\n",
      "Started task 5\n",
      "Started task 6\n",
      "Started task 7\n",
      "Started task 8\n",
      "Started task 9\n",
      "Started task 10\n",
      "Started task 11\n",
      "Started task 12\n",
      "Started task 13\n",
      "Started task 14\n",
      "Started task 15\n",
      "Started task 16\n",
      "Started task 17\n",
      "Started task 18\n",
      "Started task 19\n",
      "Started task 20\n",
      "Started task 21\n",
      "Started task 22\n",
      "Started task 23\n",
      "Started task 24\n",
      "Started task 25\n",
      "Started task 26\n",
      "Started task 27\n",
      "Started task 28\n",
      "Started task 29\n",
      "Started task 30\n",
      "Started task 31\n",
      "Started task 32\n",
      "Started task 33\n",
      "Started task 34\n",
      "Started task 35\n",
      "Started task 36\n",
      "Started task 37\n",
      "Started task 38\n",
      "Started task 39\n",
      "Started task 40\n",
      "Started task 41\n",
      "Started task 42\n",
      "Started task 43\n",
      "Started task 44\n",
      "Started task 45\n",
      "Started task 46\n",
      "Started task 47\n",
      "Started task 48\n",
      "Started task 49\n",
      "Started task 50\n",
      "CHN\n",
      "BSN\n",
      "PT1\n",
      "CN2\n",
      "SL4\n",
      "PHI\n",
      "NY1\n",
      "BR3\n",
      "CIN\n",
      "BRO\n",
      "SLN\n",
      "PIT\n",
      "BLA\n",
      "BOS\n",
      "CHA\n",
      "DET\n",
      "WS1\n",
      "MLA\n",
      "NYA\n",
      "LAA\n",
      "CAL\n",
      "NYN\n",
      "LAN\n",
      "MIN\n",
      "WS2\n",
      "ML1\n",
      "OAK\n",
      "KCA\n",
      "MON\n",
      "SE1\n",
      "ANA\n",
      "MIL\n",
      "SDN\n",
      "SEA\n",
      "COL\n",
      "ML4\n",
      "BAL\n",
      "TBA\n",
      "TOR\n",
      "TEX\n",
      "FLO\n",
      "SFN\n",
      "SLA\n",
      "ARI\n",
      "WAS\n",
      "HOU\n",
      "CLE\n",
      "KC1\n",
      "ATL\n",
      "PHA\n",
      "MIA\n"
     ]
    }
   ],
   "source": [
    "import threading\n",
    "import time\n",
    "\n",
    "def task(team):\n",
    "    time.sleep(3)\n",
    "    print(team)\n",
    "for n, team in enumerate(teams):\n",
    "    #naredi novo nit(thread) za team; čaka 3 sekunde, vmes ne rabiš procesorja in zato program nadaljuje (theread se sprosti)\n",
    "    #pride do spodnjega printa in izpiše\n",
    "    #nato gre v nov loop, naredi nov thread za novo ekipo, spet spi 3 sekunde, vmes se sprosti in nadaljuje s programom\n",
    "    # izpiše spodnji print\n",
    "    #...\n",
    "    thread = threading.Thread(target=task, args=(team,))\n",
    "    thread.start()\n",
    "    \n",
    "    #ta print ni v threadih, se izpiše takoj\n",
    "    print('Started task', n)\n",
    "    \n",
    "#v pythonu ne moremo hkrati izvajati kode, lahko pa naredimo tako, da nadaljuje takoj, ko se sprosti (neki takega)"
   ]
  },
  {
   "cell_type": "markdown",
   "metadata": {},
   "source": [
    "### Joining Threads"
   ]
  },
  {
   "cell_type": "markdown",
   "metadata": {},
   "source": [
    "```python\n",
    "t1 = threading.Thread(target=task, args=(team,))\n",
    "t2 = threading.Thread(target=task, args=(team,))\n",
    "t3 = threading.Thread(target=task, args=(team,))\n",
    "\n",
    "# Start the first three threads\n",
    "t1.start()\n",
    "t2.start()\n",
    "t3.start()\n",
    "\n",
    "t1.join() # Wait until t1 finishes.\n",
    "t2.join() # Wait until t2 finishes.  If it already finished, then keep going.\n",
    "t3.join() # Wait until t3 finishes.  If it already finished, then keep going.\n",
    "```"
   ]
  },
  {
   "cell_type": "markdown",
   "metadata": {},
   "source": [
    "<img src=\"./images/Screenshot from 2019-06-29 16-40-25.png\">"
   ]
  },
  {
   "cell_type": "code",
   "execution_count": 35,
   "metadata": {},
   "outputs": [
    {
     "name": "stdout",
     "output_type": "stream",
     "text": [
      "BSN\n",
      "CHN\n",
      "CN2\n",
      "PT1\n",
      "SL4\n",
      "Finished batch 0\n",
      "NY1\n",
      "PHI\n",
      "BR3\n",
      "PIT\n",
      "BRO\n",
      "Finished batch 1\n",
      "CIN\n",
      "SLN\n",
      "BLA\n",
      "BOS\n",
      "CHA\n",
      "Finished batch 2\n",
      "CLE\n",
      "DET\n",
      "MLA\n",
      "PHA\n",
      "WS1\n",
      "Finished batch 3\n",
      "SLA\n",
      "NYA\n",
      "ML1\n",
      "BALKC1\n",
      "\n",
      "Finished batch 4\n",
      "LAN\n",
      "SFN\n",
      "LAA\n",
      "MIN\n",
      "WS2\n",
      "Finished batch 5\n",
      "HOU\n",
      "NYN\n",
      "CAL\n",
      "ATL\n",
      "OAK\n",
      "Finished batch 6\n",
      "KCA\n",
      "SE1\n",
      "MON\n",
      "SDN\n",
      "ML4\n",
      "Finished batch 7\n",
      "TEX\n",
      "SEA\n",
      "TOR\n",
      "COL\n",
      "FLO\n",
      "Finished batch 8\n",
      "ANA\n",
      "TBA\n",
      "ARI\n",
      "MIL\n",
      "WAS\n",
      "Finished batch 9\n",
      "MIA\n",
      "Finished batch 10\n"
     ]
    }
   ],
   "source": [
    "#združujemo threade skupaj\n",
    "def task(team):\n",
    "    print(team)\n",
    "\n",
    "for i in range(11):\n",
    "    team_names = teams[i*5: (i+1) * 5]\n",
    "    threads = []\n",
    "    for team in team_names:\n",
    "        thread = threading.Thread(target=task, args=(team,))\n",
    "        thread.start()\n",
    "        threads.append(thread)\n",
    "    for thread in threads:\n",
    "        thread.join()\n",
    "    print(\"Finished batch {}\".format(i)) "
   ]
  },
  {
   "cell_type": "markdown",
   "metadata": {},
   "source": [
    "### Locking"
   ]
  },
  {
   "cell_type": "markdown",
   "metadata": {},
   "source": [
    "It's important to be aware of accessing shared resources when you're working with threads. Some examples of shared resources are:\n",
    "- The system stdout.\n",
    "- SQL databases.\n",
    "- APIs.\n",
    "- Objects in memory."
   ]
  },
  {
   "cell_type": "markdown",
   "metadata": {},
   "source": [
    "```python\n",
    "naredimo thred in ga zaklenemo:\n",
    "lock = threading.Lock()\n",
    "\n",
    "def task(team):\n",
    "    lock.acquire()\n",
    "    # This code cannot be executed until a thread acquires the lock.\n",
    "    print(team)\n",
    "    lock.release()\n",
    "\n",
    "t1 = threading.Thread(target=task, args=(team,))\n",
    "t2 = threading.Thread(target=task, args=(team,))\n",
    "\n",
    "t1.start()\n",
    "t2.start()\n",
    "\n",
    "```"
   ]
  },
  {
   "cell_type": "code",
   "execution_count": 36,
   "metadata": {},
   "outputs": [
    {
     "name": "stdout",
     "output_type": "stream",
     "text": [
      "BSN\n",
      "CHN\n",
      "CN2\n",
      "PT1\n",
      "SL4\n",
      "Finished batch 0\n",
      "NY1\n",
      "PHI\n",
      "BR3\n",
      "PIT\n",
      "BRO\n",
      "Finished batch 1\n",
      "CIN\n",
      "SLN\n",
      "BOS\n",
      "CHA\n",
      "BLA\n",
      "Finished batch 2\n",
      "CLE\n",
      "MLA\n",
      "PHA\n",
      "WS1\n",
      "DET\n",
      "Finished batch 3\n",
      "SLA\n",
      "ML1\n",
      "NYA\n",
      "BAL\n",
      "KC1\n",
      "Finished batch 4\n",
      "LAN\n",
      "LAA\n",
      "MIN\n",
      "WS2\n",
      "SFN\n",
      "Finished batch 5\n",
      "HOU\n",
      "NYN\n",
      "ATL\n",
      "CAL\n",
      "OAK\n",
      "Finished batch 6\n",
      "KCA\n",
      "SE1\n",
      "MON\n",
      "SDN\n",
      "ML4\n",
      "Finished batch 7\n",
      "TEX\n",
      "SEA\n",
      "TOR\n",
      "COL\n",
      "FLO\n",
      "Finished batch 8\n",
      "ANA\n",
      "TBA\n",
      "ARI\n",
      "MIL\n",
      "WAS\n",
      "Finished batch 9\n",
      "MIA\n",
      "Finished batch 10\n"
     ]
    }
   ],
   "source": [
    "#zaklenemo thread, da ne nadaljuje, dokler nečesa ne konča\n",
    "import threading\n",
    "import time\n",
    "import sys\n",
    "\n",
    "lock = threading.Lock()\n",
    "\n",
    "def task(team):\n",
    "    lock.acquire()\n",
    "    print(team)\n",
    "    sys.stdout.flush()\n",
    "    lock.release()\n",
    "    \n",
    "for i in range(11):\n",
    "    team_names = teams[i*5: (i+1) * 5]\n",
    "    threads = []\n",
    "    for team in team_names:\n",
    "        thread = threading.Thread(target=task, args=(team,))\n",
    "        thread.start()\n",
    "        threads.append(thread)\n",
    "    for thread in threads:\n",
    "        thread.join()\n",
    "    print(\"Finished batch {}\".format(i))   "
   ]
  },
  {
   "cell_type": "markdown",
   "metadata": {},
   "source": [
    "### Thread Safety"
   ]
  },
  {
   "cell_type": "markdown",
   "metadata": {},
   "source": [
    "In general, these operations are not thread safe:\n",
    "- Modifying data in memory.\n",
    "- Writing to a file.\n",
    "- Adding data to a database.\n",
    "- Modifying data via API.\n"
   ]
  },
  {
   "cell_type": "code",
   "execution_count": 37,
   "metadata": {},
   "outputs": [],
   "source": [
    "import cProfile\n",
    "import sqlite3\n",
    "import threading\n",
    "import sys"
   ]
  },
  {
   "cell_type": "code",
   "execution_count": 38,
   "metadata": {},
   "outputs": [],
   "source": [
    "query = \"SELECT DISTINCT teamID from Teams inner join TeamsFranchises on Teams.franchID == TeamsFranchises.franchID where TeamsFranchises.active = 'Y';\""
   ]
  },
  {
   "cell_type": "code",
   "execution_count": 39,
   "metadata": {},
   "outputs": [],
   "source": [
    "conn = sqlite3.connect(\"data/lahman2015.sqlite\", check_same_thread=False)"
   ]
  },
  {
   "cell_type": "code",
   "execution_count": 40,
   "metadata": {},
   "outputs": [],
   "source": [
    "cur = conn.cursor()\n",
    "teams = [row[0] for row in cur.execute(query).fetchall()]\n",
    "\n",
    "query = \"SELECT SUM(HR) FROM Batting WHERE teamId=?\"\n",
    "lock = threading.Lock()"
   ]
  },
  {
   "cell_type": "code",
   "execution_count": 41,
   "metadata": {},
   "outputs": [
    {
     "name": "stdout",
     "output_type": "stream",
     "text": [
      "BSN : 3424\n",
      "CN2 : 267\n",
      "SL4 : 305\n",
      "CHN : 13530\n",
      "PT1 : 54\n",
      "NY1 : 5777\n",
      "PHI : 12503\n",
      "BRO : 4336\n",
      "BR3 : 143\n",
      "PIT : 10878\n",
      "CIN : 12383\n",
      "BLA : 57\n",
      "CHA : 10792\n",
      "SLN : 11157\n",
      "BOS : 12883\n",
      "PHA : 3502\n",
      "SLA : 3014\n",
      "WS1 : 2786\n",
      "MLA : 26\n",
      "DET : 13160\n",
      "CLE : 12333\n",
      "NYA : 15218\n",
      "ML1 : 2230\n",
      "KC1 : 1480\n",
      "LAN : 7601\n",
      "SFN : 8348\n",
      "NYN : 6817\n",
      "MIN : 7393\n",
      "OAK : 7438\n",
      "BAL : 9592\n",
      "LAA : 2276\n",
      "WS2 : 1387\n",
      "SDN : 5648\n",
      "ATL : 7535\n",
      "HOU : 6536\n",
      "KCA : 5613\n",
      "SE1 : 125\n",
      "MON : 4381\n",
      "CAL : 3912\n",
      "TEX : 7055\n",
      "SEA : 5976\n",
      "ML4 : 3664\n",
      "TOR : 6415\n",
      "COL : 4120\n",
      "FLO : 2816\n",
      "ANA : 1324\n",
      "TBA : 2823\n",
      "ARI : 2987\n",
      "MIL : 3160\n",
      "WAS : 2002\n",
      "MIA : 474\n"
     ]
    }
   ],
   "source": [
    "def calculate_runs(team):\n",
    "    cur = conn.cursor()\n",
    "    runs = cur.execute(query, [team]).fetchall()\n",
    "    runs = runs[0][0]\n",
    "    lock.acquire()\n",
    "    print(team, ':', runs)\n",
    "    sys.stdout.flush()\n",
    "    lock.release()\n",
    "    return runs\n",
    "\n",
    "\n",
    "threads = []\n",
    "\n",
    "for team in teams:\n",
    "    thread = threading.Thread(target=calculate_runs, args=(team,))\n",
    "    thread.start()\n",
    "    threads.append(thread)\n",
    "    \n",
    "for thread in threads:\n",
    "    thread.join()"
   ]
  },
  {
   "cell_type": "markdown",
   "metadata": {},
   "source": [
    "## Optimizing Python Code with pandas"
   ]
  },
  {
   "cell_type": "markdown",
   "metadata": {},
   "source": [
    "### Basic Looping"
   ]
  },
  {
   "cell_type": "markdown",
   "metadata": {},
   "source": [
    "### Select columns and rows efficiently\n"
   ]
  },
  {
   "cell_type": "code",
   "execution_count": 42,
   "metadata": {},
   "outputs": [
    {
     "data": {
      "text/html": [
       "<div>\n",
       "<style scoped>\n",
       "    .dataframe tbody tr th:only-of-type {\n",
       "        vertical-align: middle;\n",
       "    }\n",
       "\n",
       "    .dataframe tbody tr th {\n",
       "        vertical-align: top;\n",
       "    }\n",
       "\n",
       "    .dataframe thead th {\n",
       "        text-align: right;\n",
       "    }\n",
       "</style>\n",
       "<table border=\"1\" class=\"dataframe\">\n",
       "  <thead>\n",
       "    <tr style=\"text-align: right;\">\n",
       "      <th></th>\n",
       "      <th>School ID</th>\n",
       "      <th>School Name</th>\n",
       "      <th>Building Code</th>\n",
       "      <th>Street Address</th>\n",
       "      <th>City</th>\n",
       "      <th>State</th>\n",
       "      <th>Zip Code</th>\n",
       "    </tr>\n",
       "  </thead>\n",
       "  <tbody>\n",
       "    <tr>\n",
       "      <th>0</th>\n",
       "      <td>02M260</td>\n",
       "      <td>Clinton School Writers and Artists</td>\n",
       "      <td>M933</td>\n",
       "      <td>425 West 33rd Street</td>\n",
       "      <td>Manhattan</td>\n",
       "      <td>NY</td>\n",
       "      <td>10001</td>\n",
       "    </tr>\n",
       "    <tr>\n",
       "      <th>1</th>\n",
       "      <td>06M211</td>\n",
       "      <td>Inwood Early College for Health and Informatio...</td>\n",
       "      <td>M052</td>\n",
       "      <td>650 Academy Street</td>\n",
       "      <td>Manhattan</td>\n",
       "      <td>NY</td>\n",
       "      <td>10002</td>\n",
       "    </tr>\n",
       "    <tr>\n",
       "      <th>2</th>\n",
       "      <td>01M539</td>\n",
       "      <td>New Explorations into Science, Technology and ...</td>\n",
       "      <td>M022</td>\n",
       "      <td>111 Columbia Street</td>\n",
       "      <td>Manhattan</td>\n",
       "      <td>NY</td>\n",
       "      <td>10002</td>\n",
       "    </tr>\n",
       "  </tbody>\n",
       "</table>\n",
       "</div>"
      ],
      "text/plain": [
       "  School ID                                        School Name Building Code  \\\n",
       "0    02M260                 Clinton School Writers and Artists          M933   \n",
       "1    06M211  Inwood Early College for Health and Informatio...          M052   \n",
       "2    01M539  New Explorations into Science, Technology and ...          M022   \n",
       "\n",
       "         Street Address       City State  Zip Code  \n",
       "0  425 West 33rd Street  Manhattan    NY     10001  \n",
       "1    650 Academy Street  Manhattan    NY     10002  \n",
       "2   111 Columbia Street  Manhattan    NY     10002  "
      ]
     },
     "execution_count": 42,
     "metadata": {},
     "output_type": "execute_result"
    }
   ],
   "source": [
    "data = pd.read_csv('data/school.csv')\n",
    "data.head(3)"
   ]
  },
  {
   "cell_type": "code",
   "execution_count": 43,
   "metadata": {},
   "outputs": [
    {
     "data": {
      "text/plain": [
       "Brooklyn            121\n",
       "Bronx               118\n",
       "Manhattan           106\n",
       "Jamaica              13\n",
       "Long Island City     12\n",
       "Staten Island        10\n",
       "Flushing              8\n",
       "Astoria               6\n",
       "Elmhurst              5\n",
       "Rockaway Park         4\n",
       "Name: City, dtype: int64"
      ]
     },
     "execution_count": 43,
     "metadata": {},
     "output_type": "execute_result"
    }
   ],
   "source": [
    "data['City'].value_counts().head(10)"
   ]
  },
  {
   "cell_type": "code",
   "execution_count": 44,
   "metadata": {},
   "outputs": [],
   "source": [
    "# save the top cities in a list\n",
    "top_cities = ['Brooklyn','Bronx','Manhattan','Jamaica','Long Island City']"
   ]
  },
  {
   "cell_type": "code",
   "execution_count": 48,
   "metadata": {},
   "outputs": [
    {
     "name": "stdout",
     "output_type": "stream",
     "text": [
      "1.25 ms ± 121 µs per loop (mean ± std. dev. of 7 runs, 1000 loops each)\n"
     ]
    }
   ],
   "source": [
    "%%timeit\n",
    "\n",
    "#napiši kodo, ki bo vse 'City', ki niso v top_cities preimenovala v Other\n",
    "#način 1:\n",
    "data['City'] = data['City'].where(data['City'].isin(top_cities), 'Other')\n",
    "\n"
   ]
  },
  {
   "cell_type": "code",
   "execution_count": 50,
   "metadata": {},
   "outputs": [
    {
     "name": "stdout",
     "output_type": "stream",
     "text": [
      "4 ms ± 145 µs per loop (mean ± std. dev. of 7 runs, 100 loops each)\n"
     ]
    }
   ],
   "source": [
    "%%timeit\n",
    "#način 2:\n",
    "data.loc[data['City'].isin(top_cities) == False, 'City'] = 'Other'"
   ]
  },
  {
   "cell_type": "code",
   "execution_count": 51,
   "metadata": {},
   "outputs": [
    {
     "data": {
      "text/plain": [
       "Brooklyn            121\n",
       "Bronx               118\n",
       "Manhattan           106\n",
       "Other                65\n",
       "Jamaica              13\n",
       "Long Island City     12\n",
       "Name: City, dtype: int64"
      ]
     },
     "execution_count": 51,
     "metadata": {},
     "output_type": "execute_result"
    }
   ],
   "source": [
    "data.City.value_counts()"
   ]
  },
  {
   "cell_type": "code",
   "execution_count": 52,
   "metadata": {},
   "outputs": [],
   "source": [
    "data = pd.read_csv('data/school.csv')"
   ]
  },
  {
   "cell_type": "code",
   "execution_count": 54,
   "metadata": {},
   "outputs": [
    {
     "name": "stderr",
     "output_type": "stream",
     "text": [
      "/home/analitika2/anaconda3/lib/python3.7/site-packages/ipykernel_launcher.py:2: SettingWithCopyWarning: \n",
      "A value is trying to be set on a copy of a slice from a DataFrame\n",
      "\n",
      "See the caveats in the documentation: http://pandas.pydata.org/pandas-docs/stable/indexing.html#indexing-view-versus-copy\n",
      "  \n"
     ]
    },
    {
     "name": "stdout",
     "output_type": "stream",
     "text": [
      "361 ms ± 11.8 ms per loop (mean ± std. dev. of 7 runs, 1 loop each)\n"
     ]
    }
   ],
   "source": [
    "%%timeit\n",
    "\n",
    "#slaba praksa\n",
    "data['City'][(data['City'].isin(top_cities) == False)] = 'Other'"
   ]
  },
  {
   "cell_type": "code",
   "execution_count": 55,
   "metadata": {},
   "outputs": [
    {
     "data": {
      "text/plain": [
       "Brooklyn            121\n",
       "Bronx               118\n",
       "Manhattan           106\n",
       "Other                65\n",
       "Jamaica              13\n",
       "Long Island City     12\n",
       "Name: City, dtype: int64"
      ]
     },
     "execution_count": 55,
     "metadata": {},
     "output_type": "execute_result"
    }
   ],
   "source": [
    "data.City.value_counts()"
   ]
  },
  {
   "cell_type": "markdown",
   "metadata": {},
   "source": [
    "### Uporaba biult-in funkciji"
   ]
  },
  {
   "cell_type": "code",
   "execution_count": null,
   "metadata": {},
   "outputs": [],
   "source": [
    "#najbolj se splača uporabljati built-in funkcije, ker so najbolj optimizirane"
   ]
  },
  {
   "cell_type": "markdown",
   "metadata": {},
   "source": [
    "### Joining on indexes is faster than joining on columns"
   ]
  },
  {
   "cell_type": "markdown",
   "metadata": {},
   "source": [
    "Construct some sample data:"
   ]
  },
  {
   "cell_type": "code",
   "execution_count": 56,
   "metadata": {},
   "outputs": [],
   "source": [
    "n = 100000\n",
    "\n",
    "i1 = np.arange(n)\n",
    "np.random.shuffle(i1)\n",
    "df1 = pd.DataFrame({'i': i1,\n",
    "                    'j': np.random.randint(1,1000,n),\n",
    "                    'k': np.random.randint(1,1000,n)})\n",
    "\n",
    "i2 = np.arange(n)\n",
    "np.random.shuffle(i1)\n",
    "df2 = pd.DataFrame({'i': i2,\n",
    "                    'm': np.random.randint(1,1000,n),\n",
    "                    'n': np.random.randint(1,1000,n)})"
   ]
  },
  {
   "cell_type": "code",
   "execution_count": 57,
   "metadata": {},
   "outputs": [
    {
     "data": {
      "text/html": [
       "<div>\n",
       "<style scoped>\n",
       "    .dataframe tbody tr th:only-of-type {\n",
       "        vertical-align: middle;\n",
       "    }\n",
       "\n",
       "    .dataframe tbody tr th {\n",
       "        vertical-align: top;\n",
       "    }\n",
       "\n",
       "    .dataframe thead th {\n",
       "        text-align: right;\n",
       "    }\n",
       "</style>\n",
       "<table border=\"1\" class=\"dataframe\">\n",
       "  <thead>\n",
       "    <tr style=\"text-align: right;\">\n",
       "      <th></th>\n",
       "      <th>i</th>\n",
       "      <th>j</th>\n",
       "      <th>k</th>\n",
       "    </tr>\n",
       "  </thead>\n",
       "  <tbody>\n",
       "    <tr>\n",
       "      <th>0</th>\n",
       "      <td>97382</td>\n",
       "      <td>161</td>\n",
       "      <td>699</td>\n",
       "    </tr>\n",
       "    <tr>\n",
       "      <th>1</th>\n",
       "      <td>8316</td>\n",
       "      <td>310</td>\n",
       "      <td>482</td>\n",
       "    </tr>\n",
       "    <tr>\n",
       "      <th>2</th>\n",
       "      <td>28153</td>\n",
       "      <td>841</td>\n",
       "      <td>703</td>\n",
       "    </tr>\n",
       "    <tr>\n",
       "      <th>3</th>\n",
       "      <td>4762</td>\n",
       "      <td>616</td>\n",
       "      <td>250</td>\n",
       "    </tr>\n",
       "    <tr>\n",
       "      <th>4</th>\n",
       "      <td>99615</td>\n",
       "      <td>754</td>\n",
       "      <td>125</td>\n",
       "    </tr>\n",
       "  </tbody>\n",
       "</table>\n",
       "</div>"
      ],
      "text/plain": [
       "       i    j    k\n",
       "0  97382  161  699\n",
       "1   8316  310  482\n",
       "2  28153  841  703\n",
       "3   4762  616  250\n",
       "4  99615  754  125"
      ]
     },
     "execution_count": 57,
     "metadata": {},
     "output_type": "execute_result"
    }
   ],
   "source": [
    "df1.head()"
   ]
  },
  {
   "cell_type": "code",
   "execution_count": 58,
   "metadata": {},
   "outputs": [
    {
     "data": {
      "text/html": [
       "<div>\n",
       "<style scoped>\n",
       "    .dataframe tbody tr th:only-of-type {\n",
       "        vertical-align: middle;\n",
       "    }\n",
       "\n",
       "    .dataframe tbody tr th {\n",
       "        vertical-align: top;\n",
       "    }\n",
       "\n",
       "    .dataframe thead th {\n",
       "        text-align: right;\n",
       "    }\n",
       "</style>\n",
       "<table border=\"1\" class=\"dataframe\">\n",
       "  <thead>\n",
       "    <tr style=\"text-align: right;\">\n",
       "      <th></th>\n",
       "      <th>i</th>\n",
       "      <th>m</th>\n",
       "      <th>n</th>\n",
       "    </tr>\n",
       "  </thead>\n",
       "  <tbody>\n",
       "    <tr>\n",
       "      <th>0</th>\n",
       "      <td>0</td>\n",
       "      <td>100</td>\n",
       "      <td>814</td>\n",
       "    </tr>\n",
       "    <tr>\n",
       "      <th>1</th>\n",
       "      <td>1</td>\n",
       "      <td>485</td>\n",
       "      <td>621</td>\n",
       "    </tr>\n",
       "    <tr>\n",
       "      <th>2</th>\n",
       "      <td>2</td>\n",
       "      <td>579</td>\n",
       "      <td>253</td>\n",
       "    </tr>\n",
       "    <tr>\n",
       "      <th>3</th>\n",
       "      <td>3</td>\n",
       "      <td>758</td>\n",
       "      <td>360</td>\n",
       "    </tr>\n",
       "    <tr>\n",
       "      <th>4</th>\n",
       "      <td>4</td>\n",
       "      <td>680</td>\n",
       "      <td>807</td>\n",
       "    </tr>\n",
       "  </tbody>\n",
       "</table>\n",
       "</div>"
      ],
      "text/plain": [
       "   i    m    n\n",
       "0  0  100  814\n",
       "1  1  485  621\n",
       "2  2  579  253\n",
       "3  3  758  360\n",
       "4  4  680  807"
      ]
     },
     "execution_count": 58,
     "metadata": {},
     "output_type": "execute_result"
    }
   ],
   "source": [
    "df2.head()"
   ]
  },
  {
   "cell_type": "code",
   "execution_count": 59,
   "metadata": {},
   "outputs": [
    {
     "name": "stdout",
     "output_type": "stream",
     "text": [
      "18.9 ms ± 2.71 ms per loop (mean ± std. dev. of 7 runs, 1 loop each)\n"
     ]
    }
   ],
   "source": [
    "%%timeit\n",
    "df1.merge(df2, on = 'i')"
   ]
  },
  {
   "cell_type": "code",
   "execution_count": 60,
   "metadata": {},
   "outputs": [],
   "source": [
    "#merganje po indeksu je precej hitreje kot merganje po stolpcu\n",
    "\n",
    "#določimo indekse\n",
    "df1 = df1.set_index('i')\n",
    "df2 = df2.set_index('i')"
   ]
  },
  {
   "cell_type": "code",
   "execution_count": 61,
   "metadata": {},
   "outputs": [
    {
     "name": "stdout",
     "output_type": "stream",
     "text": [
      "9.41 ms ± 491 µs per loop (mean ± std. dev. of 7 runs, 100 loops each)\n"
     ]
    }
   ],
   "source": [
    "%%timeit\n",
    "\n",
    "#merganje po indeksu je precej hitreje kot merganje po stolpcu\n",
    "df1.merge(df2, left_index = True, right_index= True)"
   ]
  },
  {
   "cell_type": "markdown",
   "metadata": {},
   "source": [
    "## PRIMER: Pohitritev pandas kode"
   ]
  },
  {
   "cell_type": "markdown",
   "metadata": {},
   "source": [
    "Vir: \n",
    "- [Fast, Flexible, Easy and Intuitive: How to Speed Up Your Pandas Projects](https://realpython.com/fast-flexible-pandas/)"
   ]
  },
  {
   "cell_type": "markdown",
   "metadata": {},
   "source": [
    "### Naloga\n",
    "\n",
    "Računali bomo ceno elektrike:\n",
    "podatke imamo za celo leto.\n",
    "Imamo 3 tarife: vsako uro moramo pomnožit s ceno tarife, kamor spada ura"
   ]
  },
  {
   "cell_type": "markdown",
   "metadata": {},
   "source": [
    "### Priprava podatkov"
   ]
  },
  {
   "cell_type": "code",
   "execution_count": 62,
   "metadata": {},
   "outputs": [],
   "source": [
    "import pandas as pd"
   ]
  },
  {
   "cell_type": "code",
   "execution_count": 63,
   "metadata": {},
   "outputs": [],
   "source": [
    "df = pd.read_csv('data/demand_profile.csv')"
   ]
  },
  {
   "cell_type": "code",
   "execution_count": 64,
   "metadata": {},
   "outputs": [
    {
     "data": {
      "text/html": [
       "<div>\n",
       "<style scoped>\n",
       "    .dataframe tbody tr th:only-of-type {\n",
       "        vertical-align: middle;\n",
       "    }\n",
       "\n",
       "    .dataframe tbody tr th {\n",
       "        vertical-align: top;\n",
       "    }\n",
       "\n",
       "    .dataframe thead th {\n",
       "        text-align: right;\n",
       "    }\n",
       "</style>\n",
       "<table border=\"1\" class=\"dataframe\">\n",
       "  <thead>\n",
       "    <tr style=\"text-align: right;\">\n",
       "      <th></th>\n",
       "      <th>date_time</th>\n",
       "      <th>energy_kwh</th>\n",
       "    </tr>\n",
       "  </thead>\n",
       "  <tbody>\n",
       "    <tr>\n",
       "      <th>0</th>\n",
       "      <td>1/1/13 0:00</td>\n",
       "      <td>0.586</td>\n",
       "    </tr>\n",
       "    <tr>\n",
       "      <th>1</th>\n",
       "      <td>1/1/13 1:00</td>\n",
       "      <td>0.580</td>\n",
       "    </tr>\n",
       "    <tr>\n",
       "      <th>2</th>\n",
       "      <td>1/1/13 2:00</td>\n",
       "      <td>0.572</td>\n",
       "    </tr>\n",
       "    <tr>\n",
       "      <th>3</th>\n",
       "      <td>1/1/13 3:00</td>\n",
       "      <td>0.596</td>\n",
       "    </tr>\n",
       "    <tr>\n",
       "      <th>4</th>\n",
       "      <td>1/1/13 4:00</td>\n",
       "      <td>0.592</td>\n",
       "    </tr>\n",
       "  </tbody>\n",
       "</table>\n",
       "</div>"
      ],
      "text/plain": [
       "     date_time  energy_kwh\n",
       "0  1/1/13 0:00       0.586\n",
       "1  1/1/13 1:00       0.580\n",
       "2  1/1/13 2:00       0.572\n",
       "3  1/1/13 3:00       0.596\n",
       "4  1/1/13 4:00       0.592"
      ]
     },
     "execution_count": 64,
     "metadata": {},
     "output_type": "execute_result"
    }
   ],
   "source": [
    "df.head()"
   ]
  },
  {
   "cell_type": "code",
   "execution_count": 65,
   "metadata": {},
   "outputs": [
    {
     "name": "stdout",
     "output_type": "stream",
     "text": [
      "<class 'pandas.core.frame.DataFrame'>\n",
      "RangeIndex: 8760 entries, 0 to 8759\n",
      "Data columns (total 2 columns):\n",
      "date_time     8760 non-null object\n",
      "energy_kwh    8760 non-null float64\n",
      "dtypes: float64(1), object(1)\n",
      "memory usage: 137.0+ KB\n"
     ]
    }
   ],
   "source": [
    "df.info()"
   ]
  },
  {
   "cell_type": "code",
   "execution_count": 66,
   "metadata": {},
   "outputs": [
    {
     "data": {
      "text/plain": [
       "date_time      object\n",
       "energy_kwh    float64\n",
       "dtype: object"
      ]
     },
     "execution_count": 66,
     "metadata": {},
     "output_type": "execute_result"
    }
   ],
   "source": [
    "df.dtypes"
   ]
  },
  {
   "cell_type": "code",
   "execution_count": 67,
   "metadata": {},
   "outputs": [
    {
     "data": {
      "text/plain": [
       "str"
      ]
     },
     "execution_count": 67,
     "metadata": {},
     "output_type": "execute_result"
    }
   ],
   "source": [
    "type(df.iloc[0, 0])"
   ]
  },
  {
   "cell_type": "code",
   "execution_count": 68,
   "metadata": {},
   "outputs": [
    {
     "data": {
      "text/plain": [
       "dtype('<M8[ns]')"
      ]
     },
     "execution_count": 68,
     "metadata": {},
     "output_type": "execute_result"
    }
   ],
   "source": [
    "#date_time je tipa object, pretvorimo ga v datetime\n",
    "\n",
    "df['date_time'] = pd.to_datetime(df['date_time'])\n",
    "df['date_time'].dtype"
   ]
  },
  {
   "cell_type": "code",
   "execution_count": 69,
   "metadata": {},
   "outputs": [
    {
     "data": {
      "text/html": [
       "<div>\n",
       "<style scoped>\n",
       "    .dataframe tbody tr th:only-of-type {\n",
       "        vertical-align: middle;\n",
       "    }\n",
       "\n",
       "    .dataframe tbody tr th {\n",
       "        vertical-align: top;\n",
       "    }\n",
       "\n",
       "    .dataframe thead th {\n",
       "        text-align: right;\n",
       "    }\n",
       "</style>\n",
       "<table border=\"1\" class=\"dataframe\">\n",
       "  <thead>\n",
       "    <tr style=\"text-align: right;\">\n",
       "      <th></th>\n",
       "      <th>date_time</th>\n",
       "      <th>energy_kwh</th>\n",
       "    </tr>\n",
       "  </thead>\n",
       "  <tbody>\n",
       "    <tr>\n",
       "      <th>0</th>\n",
       "      <td>2013-01-01 00:00:00</td>\n",
       "      <td>0.586</td>\n",
       "    </tr>\n",
       "    <tr>\n",
       "      <th>1</th>\n",
       "      <td>2013-01-01 01:00:00</td>\n",
       "      <td>0.580</td>\n",
       "    </tr>\n",
       "    <tr>\n",
       "      <th>2</th>\n",
       "      <td>2013-01-01 02:00:00</td>\n",
       "      <td>0.572</td>\n",
       "    </tr>\n",
       "    <tr>\n",
       "      <th>3</th>\n",
       "      <td>2013-01-01 03:00:00</td>\n",
       "      <td>0.596</td>\n",
       "    </tr>\n",
       "    <tr>\n",
       "      <th>4</th>\n",
       "      <td>2013-01-01 04:00:00</td>\n",
       "      <td>0.592</td>\n",
       "    </tr>\n",
       "  </tbody>\n",
       "</table>\n",
       "</div>"
      ],
      "text/plain": [
       "            date_time  energy_kwh\n",
       "0 2013-01-01 00:00:00       0.586\n",
       "1 2013-01-01 01:00:00       0.580\n",
       "2 2013-01-01 02:00:00       0.572\n",
       "3 2013-01-01 03:00:00       0.596\n",
       "4 2013-01-01 04:00:00       0.592"
      ]
     },
     "execution_count": 69,
     "metadata": {},
     "output_type": "execute_result"
    }
   ],
   "source": [
    "df.head()"
   ]
  },
  {
   "cell_type": "code",
   "execution_count": 71,
   "metadata": {},
   "outputs": [],
   "source": [
    "def convert(df, column_name):\n",
    "    return pd.to_datetime(df[column_name])\n",
    "\n",
    "df = pd.read_csv('data/demand_profile.csv')\n",
    "df_coverted = df.copy()"
   ]
  },
  {
   "cell_type": "code",
   "execution_count": 72,
   "metadata": {},
   "outputs": [
    {
     "name": "stdout",
     "output_type": "stream",
     "text": [
      "1.51 s ± 30.5 ms per loop (mean ± std. dev. of 3 runs, 10 loops each)\n"
     ]
    }
   ],
   "source": [
    "%%timeit -r 3 -n 10\n",
    "df_coverted['date_time'] = convert(df, 'date_time')"
   ]
  },
  {
   "cell_type": "code",
   "execution_count": 74,
   "metadata": {},
   "outputs": [],
   "source": [
    "#uporabimo convert, ki že ima določen format - precej hitreje je!\n",
    "def convert_with_format(df, column_name):\n",
    "    return pd.to_datetime(df[column_name], format='%d/%m/%y %H:%M')"
   ]
  },
  {
   "cell_type": "code",
   "execution_count": 75,
   "metadata": {},
   "outputs": [
    {
     "name": "stdout",
     "output_type": "stream",
     "text": [
      "61.2 ms ± 365 µs per loop (mean ± std. dev. of 3 runs, 10 loops each)\n"
     ]
    }
   ],
   "source": [
    "%%timeit -r 3 -n 10\n",
    "df_coverted['date_time'] = convert_with_format(df, 'date_time')"
   ]
  },
  {
   "cell_type": "code",
   "execution_count": 76,
   "metadata": {},
   "outputs": [
    {
     "data": {
      "text/plain": [
       "47.72222222222222"
      ]
     },
     "execution_count": 76,
     "metadata": {},
     "output_type": "execute_result"
    }
   ],
   "source": [
    "859/18"
   ]
  },
  {
   "cell_type": "code",
   "execution_count": 77,
   "metadata": {},
   "outputs": [
    {
     "data": {
      "text/html": [
       "<div>\n",
       "<style scoped>\n",
       "    .dataframe tbody tr th:only-of-type {\n",
       "        vertical-align: middle;\n",
       "    }\n",
       "\n",
       "    .dataframe tbody tr th {\n",
       "        vertical-align: top;\n",
       "    }\n",
       "\n",
       "    .dataframe thead th {\n",
       "        text-align: right;\n",
       "    }\n",
       "</style>\n",
       "<table border=\"1\" class=\"dataframe\">\n",
       "  <thead>\n",
       "    <tr style=\"text-align: right;\">\n",
       "      <th></th>\n",
       "      <th>date_time</th>\n",
       "      <th>energy_kwh</th>\n",
       "    </tr>\n",
       "  </thead>\n",
       "  <tbody>\n",
       "    <tr>\n",
       "      <th>0</th>\n",
       "      <td>2013-01-01 00:00:00</td>\n",
       "      <td>0.586</td>\n",
       "    </tr>\n",
       "    <tr>\n",
       "      <th>1</th>\n",
       "      <td>2013-01-01 01:00:00</td>\n",
       "      <td>0.580</td>\n",
       "    </tr>\n",
       "    <tr>\n",
       "      <th>2</th>\n",
       "      <td>2013-01-01 02:00:00</td>\n",
       "      <td>0.572</td>\n",
       "    </tr>\n",
       "    <tr>\n",
       "      <th>3</th>\n",
       "      <td>2013-01-01 03:00:00</td>\n",
       "      <td>0.596</td>\n",
       "    </tr>\n",
       "    <tr>\n",
       "      <th>4</th>\n",
       "      <td>2013-01-01 04:00:00</td>\n",
       "      <td>0.592</td>\n",
       "    </tr>\n",
       "  </tbody>\n",
       "</table>\n",
       "</div>"
      ],
      "text/plain": [
       "            date_time  energy_kwh\n",
       "0 2013-01-01 00:00:00       0.586\n",
       "1 2013-01-01 01:00:00       0.580\n",
       "2 2013-01-01 02:00:00       0.572\n",
       "3 2013-01-01 03:00:00       0.596\n",
       "4 2013-01-01 04:00:00       0.592"
      ]
     },
     "execution_count": 77,
     "metadata": {},
     "output_type": "execute_result"
    }
   ],
   "source": [
    "df_coverted.head()"
   ]
  },
  {
   "cell_type": "code",
   "execution_count": 78,
   "metadata": {},
   "outputs": [
    {
     "name": "stdout",
     "output_type": "stream",
     "text": [
      "<class 'pandas.core.frame.DataFrame'>\n",
      "RangeIndex: 8760 entries, 0 to 8759\n",
      "Data columns (total 2 columns):\n",
      "date_time     8760 non-null datetime64[ns]\n",
      "energy_kwh    8760 non-null float64\n",
      "dtypes: datetime64[ns](1), float64(1)\n",
      "memory usage: 137.0 KB\n"
     ]
    }
   ],
   "source": [
    "df_coverted.info()"
   ]
  },
  {
   "cell_type": "code",
   "execution_count": null,
   "metadata": {},
   "outputs": [],
   "source": [
    "#gremo na več načinov: od najslabšega do najboljšega"
   ]
  },
  {
   "cell_type": "markdown",
   "metadata": {},
   "source": [
    "### 1) Simple Looping Over Pandas Data"
   ]
  },
  {
   "cell_type": "markdown",
   "metadata": {},
   "source": [
    "<table class=\"table table-hover\">\n",
    "<thead>\n",
    "<tr>\n",
    "<th>Tariff Type</th>\n",
    "<th>Cents per kWh</th>\n",
    "<th>Time Range</th>\n",
    "</tr>\n",
    "</thead>\n",
    "<tbody>\n",
    "<tr>\n",
    "<td>Peak</td>\n",
    "<td>28</td>\n",
    "<td>17:00 to 24:00</td>\n",
    "</tr>\n",
    "<tr>\n",
    "<td>Shoulder</td>\n",
    "<td>20</td>\n",
    "<td>7:00 to 17:00</td>\n",
    "</tr>\n",
    "<tr>\n",
    "<td>Off-Peak</td>\n",
    "<td>12</td>\n",
    "<td>0:00 to 7:00</td>\n",
    "</tr>\n",
    "</tbody>\n",
    "</table>"
   ]
  },
  {
   "cell_type": "code",
   "execution_count": 79,
   "metadata": {},
   "outputs": [],
   "source": [
    "#če bi bila cena v vsaki uri 28\n",
    "df_test = df_coverted.copy()\n",
    "df_test['cost_cents'] = df['energy_kwh'] * 28"
   ]
  },
  {
   "cell_type": "code",
   "execution_count": 82,
   "metadata": {},
   "outputs": [
    {
     "data": {
      "text/plain": [
       "160.31509199999996"
      ]
     },
     "execution_count": 82,
     "metadata": {},
     "output_type": "execute_result"
    }
   ],
   "source": [
    "df_test['cost_cents'].sum()/1000"
   ]
  },
  {
   "cell_type": "code",
   "execution_count": 80,
   "metadata": {},
   "outputs": [
    {
     "data": {
      "text/html": [
       "<div>\n",
       "<style scoped>\n",
       "    .dataframe tbody tr th:only-of-type {\n",
       "        vertical-align: middle;\n",
       "    }\n",
       "\n",
       "    .dataframe tbody tr th {\n",
       "        vertical-align: top;\n",
       "    }\n",
       "\n",
       "    .dataframe thead th {\n",
       "        text-align: right;\n",
       "    }\n",
       "</style>\n",
       "<table border=\"1\" class=\"dataframe\">\n",
       "  <thead>\n",
       "    <tr style=\"text-align: right;\">\n",
       "      <th></th>\n",
       "      <th>date_time</th>\n",
       "      <th>energy_kwh</th>\n",
       "      <th>cost_cents</th>\n",
       "    </tr>\n",
       "  </thead>\n",
       "  <tbody>\n",
       "    <tr>\n",
       "      <th>0</th>\n",
       "      <td>2013-01-01 00:00:00</td>\n",
       "      <td>0.586</td>\n",
       "      <td>16.408</td>\n",
       "    </tr>\n",
       "    <tr>\n",
       "      <th>1</th>\n",
       "      <td>2013-01-01 01:00:00</td>\n",
       "      <td>0.580</td>\n",
       "      <td>16.240</td>\n",
       "    </tr>\n",
       "    <tr>\n",
       "      <th>2</th>\n",
       "      <td>2013-01-01 02:00:00</td>\n",
       "      <td>0.572</td>\n",
       "      <td>16.016</td>\n",
       "    </tr>\n",
       "    <tr>\n",
       "      <th>3</th>\n",
       "      <td>2013-01-01 03:00:00</td>\n",
       "      <td>0.596</td>\n",
       "      <td>16.688</td>\n",
       "    </tr>\n",
       "    <tr>\n",
       "      <th>4</th>\n",
       "      <td>2013-01-01 04:00:00</td>\n",
       "      <td>0.592</td>\n",
       "      <td>16.576</td>\n",
       "    </tr>\n",
       "  </tbody>\n",
       "</table>\n",
       "</div>"
      ],
      "text/plain": [
       "            date_time  energy_kwh  cost_cents\n",
       "0 2013-01-01 00:00:00       0.586      16.408\n",
       "1 2013-01-01 01:00:00       0.580      16.240\n",
       "2 2013-01-01 02:00:00       0.572      16.016\n",
       "3 2013-01-01 03:00:00       0.596      16.688\n",
       "4 2013-01-01 04:00:00       0.592      16.576"
      ]
     },
     "execution_count": 80,
     "metadata": {},
     "output_type": "execute_result"
    }
   ],
   "source": [
    "df_test.head()"
   ]
  },
  {
   "cell_type": "code",
   "execution_count": 83,
   "metadata": {},
   "outputs": [],
   "source": [
    "def apply_tariff(kwh, hour):\n",
    "    \"\"\"Calculates cost of electricity for given hour.\"\"\"    \n",
    "    if 0 <= hour < 7:\n",
    "        rate = 12\n",
    "    elif 7 <= hour < 17:\n",
    "        rate = 20\n",
    "    elif 17 <= hour < 24:\n",
    "        rate = 28\n",
    "    else:\n",
    "        raise ValueError(f'Invalid hour: {hour}')\n",
    "    return rate * kwh"
   ]
  },
  {
   "cell_type": "code",
   "execution_count": 92,
   "metadata": {},
   "outputs": [],
   "source": [
    "# NOTE: Don't do this!\n",
    "def apply_tariff_loop(df):\n",
    "    \"\"\"Calculate costs in loop.  Modifies `df` inplace.\"\"\"\n",
    "    energy_cost_list = []\n",
    "    for i in range(len(df)):\n",
    "        energy_cost_list.append(apply_tariff(df.iloc[i]['energy_kwh'], df.iloc[i]['date_time'].hour))\n",
    "        \n",
    "    df['cost_cents'] = energy_cost_list"
   ]
  },
  {
   "cell_type": "code",
   "execution_count": 93,
   "metadata": {},
   "outputs": [
    {
     "name": "stdout",
     "output_type": "stream",
     "text": [
      "5.08 s ± 180 ms per loop (mean ± std. dev. of 3 runs, 10 loops each)\n"
     ]
    }
   ],
   "source": [
    "%%timeit -r 3 -n 10\n",
    "\n",
    "#zeloo počasi, slaba rešitev!!\n",
    "apply_tariff_loop(df_coverted)"
   ]
  },
  {
   "cell_type": "markdown",
   "metadata": {},
   "source": [
    "### 2) Looping with .itertuples() and .iterrows()"
   ]
  },
  {
   "cell_type": "code",
   "execution_count": 94,
   "metadata": {},
   "outputs": [
    {
     "name": "stdout",
     "output_type": "stream",
     "text": [
      "0\n",
      "date_time     1/1/13 0:00\n",
      "energy_kwh          0.586\n",
      "Name: 0, dtype: object\n",
      "energy_kwh 0.586\n",
      "-------\n",
      "1\n",
      "date_time     1/1/13 1:00\n",
      "energy_kwh           0.58\n",
      "Name: 1, dtype: object\n",
      "energy_kwh 0.58\n",
      "-------\n",
      "2\n",
      "date_time     1/1/13 2:00\n",
      "energy_kwh          0.572\n",
      "Name: 2, dtype: object\n",
      "energy_kwh 0.5720000000000001\n",
      "-------\n",
      "3\n",
      "date_time     1/1/13 3:00\n",
      "energy_kwh          0.596\n",
      "Name: 3, dtype: object\n",
      "energy_kwh 0.596\n",
      "-------\n",
      "4\n",
      "date_time     1/1/13 4:00\n",
      "energy_kwh          0.592\n",
      "Name: 4, dtype: object\n",
      "energy_kwh 0.5920000000000001\n",
      "-------\n"
     ]
    }
   ],
   "source": [
    "for index, row in df[:5].iterrows():\n",
    "    print(index)\n",
    "    print(row)\n",
    "    print('energy_kwh' ,row['energy_kwh'])\n",
    "    print('-------')"
   ]
  },
  {
   "cell_type": "code",
   "execution_count": 96,
   "metadata": {},
   "outputs": [],
   "source": [
    "def apply_tariff_iterrows(df):\n",
    "    \n",
    "    energy_cost_list = []\n",
    "    for index, row in df.iterrows():\n",
    "        energy_cost_list.append(apply_tariff(row['energy_kwh'], row['date_time'].hour))\n",
    "        \n",
    "    df['cost_cents'] = energy_cost_list"
   ]
  },
  {
   "cell_type": "code",
   "execution_count": 97,
   "metadata": {},
   "outputs": [
    {
     "name": "stdout",
     "output_type": "stream",
     "text": [
      "1.52 s ± 173 ms per loop (mean ± std. dev. of 7 runs, 1 loop each)\n"
     ]
    }
   ],
   "source": [
    "%%timeit \n",
    "\n",
    "#precej hitreje kot prva rešitev\n",
    "apply_tariff_iterrows(df_coverted)"
   ]
  },
  {
   "cell_type": "markdown",
   "metadata": {},
   "source": [
    "### 3) Pandas’ .apply()"
   ]
  },
  {
   "cell_type": "code",
   "execution_count": 98,
   "metadata": {},
   "outputs": [],
   "source": [
    "def apply_tariff_withapply(df):\n",
    "    df['cost_cents'] = df.apply(lambda row: apply_tariff(row['energy_kwh'], row['date_time'].hour), axis = 1)\n"
   ]
  },
  {
   "cell_type": "code",
   "execution_count": 99,
   "metadata": {},
   "outputs": [
    {
     "name": "stdout",
     "output_type": "stream",
     "text": [
      "393 ms ± 4.52 ms per loop (mean ± std. dev. of 7 runs, 1 loop each)\n"
     ]
    }
   ],
   "source": [
    "%%timeit \n",
    "apply_tariff_withapply(df_coverted)"
   ]
  },
  {
   "cell_type": "markdown",
   "metadata": {},
   "source": [
    "### 4) Selecting Data With .isin()"
   ]
  },
  {
   "cell_type": "code",
   "execution_count": 101,
   "metadata": {},
   "outputs": [],
   "source": [
    "\n",
    "#nastavimo date_time za index\n",
    "df_coverted = df.copy()\n",
    "df_coverted['date_time'] = convert_with_format(df, 'date_time')\n",
    "df_coverted.set_index('date_time', inplace=True)"
   ]
  },
  {
   "cell_type": "code",
   "execution_count": 102,
   "metadata": {},
   "outputs": [
    {
     "data": {
      "text/html": [
       "<div>\n",
       "<style scoped>\n",
       "    .dataframe tbody tr th:only-of-type {\n",
       "        vertical-align: middle;\n",
       "    }\n",
       "\n",
       "    .dataframe tbody tr th {\n",
       "        vertical-align: top;\n",
       "    }\n",
       "\n",
       "    .dataframe thead th {\n",
       "        text-align: right;\n",
       "    }\n",
       "</style>\n",
       "<table border=\"1\" class=\"dataframe\">\n",
       "  <thead>\n",
       "    <tr style=\"text-align: right;\">\n",
       "      <th></th>\n",
       "      <th>energy_kwh</th>\n",
       "    </tr>\n",
       "    <tr>\n",
       "      <th>date_time</th>\n",
       "      <th></th>\n",
       "    </tr>\n",
       "  </thead>\n",
       "  <tbody>\n",
       "    <tr>\n",
       "      <th>2013-01-01 00:00:00</th>\n",
       "      <td>0.586</td>\n",
       "    </tr>\n",
       "    <tr>\n",
       "      <th>2013-01-01 01:00:00</th>\n",
       "      <td>0.580</td>\n",
       "    </tr>\n",
       "    <tr>\n",
       "      <th>2013-01-01 02:00:00</th>\n",
       "      <td>0.572</td>\n",
       "    </tr>\n",
       "    <tr>\n",
       "      <th>2013-01-01 03:00:00</th>\n",
       "      <td>0.596</td>\n",
       "    </tr>\n",
       "    <tr>\n",
       "      <th>2013-01-01 04:00:00</th>\n",
       "      <td>0.592</td>\n",
       "    </tr>\n",
       "  </tbody>\n",
       "</table>\n",
       "</div>"
      ],
      "text/plain": [
       "                     energy_kwh\n",
       "date_time                      \n",
       "2013-01-01 00:00:00       0.586\n",
       "2013-01-01 01:00:00       0.580\n",
       "2013-01-01 02:00:00       0.572\n",
       "2013-01-01 03:00:00       0.596\n",
       "2013-01-01 04:00:00       0.592"
      ]
     },
     "execution_count": 102,
     "metadata": {},
     "output_type": "execute_result"
    }
   ],
   "source": [
    "df_coverted.head()"
   ]
  },
  {
   "cell_type": "code",
   "execution_count": 107,
   "metadata": {},
   "outputs": [],
   "source": [
    "#Izbermeo ven intervale in vsak interval pomnožimo z ustrezno ceno\n",
    "def apply_tariff_isin(df):\n",
    "    peak_hours = df.index.hour.isin(range(17,24))\n",
    "    shoulder_hours = df.index.hour.isin(range(7, 17))\n",
    "    offpeak_hours = df.index.hour.isin(range(0,7))\n",
    "\n",
    "    df.loc[peak_hours, 'cost_cents'] = df.loc[peak_hours, 'energy_kwh'] * 28\n",
    "    df.loc[shoulder_hours, 'cost_cents'] = df.loc[shoulder_hours, 'energy_kwh'] * 20\n",
    "    df.loc[offpeak_hours, 'cost_cents'] = df.loc[offpeak_hours, 'energy_kwh'] * 12\n",
    "   "
   ]
  },
  {
   "cell_type": "code",
   "execution_count": 108,
   "metadata": {},
   "outputs": [
    {
     "name": "stdout",
     "output_type": "stream",
     "text": [
      "8.37 ms ± 556 µs per loop (mean ± std. dev. of 7 runs, 100 loops each)\n"
     ]
    }
   ],
   "source": [
    "%%timeit \n",
    "apply_tariff_isin(df_coverted)"
   ]
  },
  {
   "cell_type": "markdown",
   "metadata": {},
   "source": [
    "### 5) Pandas’ pd.cut() function"
   ]
  },
  {
   "cell_type": "code",
   "execution_count": 109,
   "metadata": {},
   "outputs": [],
   "source": [
    "#pd.cut()\n",
    "\n",
    "df_coverted = df.copy()\n",
    "df_coverted['date_time'] = convert_with_format(df, 'date_time')\n",
    "df_coverted.set_index('date_time', inplace=True)"
   ]
  },
  {
   "cell_type": "markdown",
   "metadata": {},
   "source": [
    "> **[pandas.cut](https://pandas.pydata.org/pandas-docs/version/0.23.4/generated/pandas.cut.html)**\n",
    "- `pandas.cut(x, bins, right=True, labels=None, retbins=False, precision=3, include_lowest=False, duplicates='raise')`\n",
    "- Bin values into discrete intervals.\n",
    "- Use cut when you need to segment and sort data values into bins. This function is also useful for going from a continuous variable to a categorical variable. For example, cut could convert ages to groups of age ranges. Supports binning into an equal number of bins, or a pre-specified array of bins."
   ]
  },
  {
   "cell_type": "code",
   "execution_count": 112,
   "metadata": {},
   "outputs": [
    {
     "data": {
      "text/plain": [
       "Int64Index([ 0,  1,  2,  3,  4,  5,  6,  7,  8,  9,\n",
       "            ...\n",
       "            14, 15, 16, 17, 18, 19, 20, 21, 22, 23],\n",
       "           dtype='int64', name='date_time', length=8760)"
      ]
     },
     "execution_count": 112,
     "metadata": {},
     "output_type": "execute_result"
    }
   ],
   "source": [
    "df_coverted.index.hour\n"
   ]
  },
  {
   "cell_type": "code",
   "execution_count": 113,
   "metadata": {},
   "outputs": [
    {
     "data": {
      "text/plain": [
       "[12, 12, 12, 12, 12, ..., 28, 28, 28, 28, 28]\n",
       "Length: 8760\n",
       "Categories (3, int64): [12 < 20 < 28]"
      ]
     },
     "execution_count": 113,
     "metadata": {},
     "output_type": "execute_result"
    }
   ],
   "source": [
    "#naredimo časovno serijo cen, ki jo bomo nato pomnožili s porabo\n",
    "pd.cut(x = df_coverted.index.hour,\n",
    "      bins = [0,7,17,24],\n",
    "      include_lowest=True,\n",
    "      labels = [12,20,28])"
   ]
  },
  {
   "cell_type": "code",
   "execution_count": null,
   "metadata": {},
   "outputs": [],
   "source": []
  },
  {
   "cell_type": "code",
   "execution_count": 115,
   "metadata": {},
   "outputs": [],
   "source": [
    "def apply_tariff_cut(df):\n",
    "    cents_per_kwh = pd.cut(x = df_coverted.index.hour,\n",
    "          bins = [0,7,17,24],\n",
    "          include_lowest=True,\n",
    "          labels = [12,20,28])\n",
    "    df['cost_cents'] = cents_per_kwh * df['energy_kwh']\n"
   ]
  },
  {
   "cell_type": "code",
   "execution_count": 116,
   "metadata": {},
   "outputs": [
    {
     "name": "stdout",
     "output_type": "stream",
     "text": [
      "3.46 ms ± 152 µs per loop (mean ± std. dev. of 3 runs, 10 loops each)\n"
     ]
    }
   ],
   "source": [
    "%%timeit -r 3 -n 10\n",
    "apply_tariff_cut(df_coverted)"
   ]
  },
  {
   "cell_type": "markdown",
   "metadata": {},
   "source": [
    "### 6) Using NumPy"
   ]
  },
  {
   "cell_type": "code",
   "execution_count": 117,
   "metadata": {},
   "outputs": [],
   "source": [
    "import numpy as np"
   ]
  },
  {
   "cell_type": "code",
   "execution_count": 118,
   "metadata": {},
   "outputs": [],
   "source": [
    "df_coverted = df.copy()\n",
    "df_coverted['date_time'] = convert_with_format(df, 'date_time')\n",
    "df_coverted.set_index('date_time', inplace=True)"
   ]
  },
  {
   "cell_type": "markdown",
   "metadata": {},
   "source": [
    "> **[numpy.digitize](https://docs.scipy.org/doc/numpy/reference/generated/numpy.digitize.html)**\n",
    "- `numpy.digitize(x, bins, right=False)`\n",
    "- Return the indices of the bins to which each value in input array belongs."
   ]
  },
  {
   "cell_type": "code",
   "execution_count": 119,
   "metadata": {},
   "outputs": [
    {
     "data": {
      "text/plain": [
       "array([0, 0, 0, ..., 2, 2, 2])"
      ]
     },
     "execution_count": 119,
     "metadata": {},
     "output_type": "execute_result"
    }
   ],
   "source": [
    "#numpy digitize: računa po intervalih (podobno kot v primeru 5)\n",
    "np.digitize(df_coverted.index.hour.values, \n",
    "           bins = [7,17,24])\n",
    "\n",
    "#dobimo časovno vrsto 0/1/2, zamenjati moramo s cenami"
   ]
  },
  {
   "cell_type": "code",
   "execution_count": 120,
   "metadata": {},
   "outputs": [],
   "source": [
    "def apply_tariff_digitize(df):\n",
    "    prices = np.array([12,20,28])\n",
    "    bins = np.digitize(df_coverted.index.hour.values, bins = [7,17,24])\n",
    "    df['cost_cents'] = prices[bins] * df['energy_kwh'].values\n"
   ]
  },
  {
   "cell_type": "code",
   "execution_count": 121,
   "metadata": {},
   "outputs": [
    {
     "name": "stdout",
     "output_type": "stream",
     "text": [
      "1.22 ms ± 171 µs per loop (mean ± std. dev. of 3 runs, 10 loops each)\n"
     ]
    }
   ],
   "source": [
    "%%timeit -r 3 -n 10\n",
    "apply_tariff_digitize(df_coverted)"
   ]
  },
  {
   "cell_type": "markdown",
   "metadata": {},
   "source": [
    "### Prevent Reprocessing with HDFStore"
   ]
  },
  {
   "cell_type": "markdown",
   "metadata": {},
   "source": [
    "[What is HDF5](https://portal.hdfgroup.org/display/knowledge/What+is+HDF5)"
   ]
  },
  {
   "cell_type": "code",
   "execution_count": null,
   "metadata": {},
   "outputs": [],
   "source": []
  },
  {
   "cell_type": "code",
   "execution_count": null,
   "metadata": {},
   "outputs": [],
   "source": [
    "#omogoča, da v csv shranimo dataframe z ohranjenimi podatkovnimi tipi (takimi, kot smo jih določili\n",
    "#data frame-u) - shrani se točno tak df, kot je, ne izgubijo se podatkovni tipi"
   ]
  },
  {
   "cell_type": "code",
   "execution_count": 122,
   "metadata": {},
   "outputs": [
    {
     "name": "stdout",
     "output_type": "stream",
     "text": [
      "<class 'pandas.core.frame.DataFrame'>\n",
      "DatetimeIndex: 8760 entries, 2013-01-01 00:00:00 to 2013-12-31 23:00:00\n",
      "Data columns (total 2 columns):\n",
      "energy_kwh    8760 non-null float64\n",
      "cost_cents    8760 non-null float64\n",
      "dtypes: float64(2)\n",
      "memory usage: 205.3 KB\n"
     ]
    }
   ],
   "source": [
    "df_coverted.info()"
   ]
  },
  {
   "cell_type": "code",
   "execution_count": 123,
   "metadata": {},
   "outputs": [],
   "source": [
    "# Create storage object with filename `processed_data`\n",
    "data_store = pd.HDFStore('data/OUT_processed_data.h5')\n",
    "\n",
    "# Put DataFrame into the object setting the key as 'preprocessed_df'\n",
    "data_store['preprocessed_df'] = df_coverted\n",
    "data_store.close()"
   ]
  },
  {
   "cell_type": "code",
   "execution_count": 124,
   "metadata": {},
   "outputs": [],
   "source": [
    "data_store = pd.HDFStore('data/OUT_processed_data.h5')\n",
    "\n",
    "# Retrieve data using key\n",
    "preprocessed_df = data_store['preprocessed_df']\n",
    "data_store.close()"
   ]
  },
  {
   "cell_type": "code",
   "execution_count": 125,
   "metadata": {},
   "outputs": [
    {
     "name": "stdout",
     "output_type": "stream",
     "text": [
      "<class 'pandas.core.frame.DataFrame'>\n",
      "DatetimeIndex: 8760 entries, 2013-01-01 00:00:00 to 2013-12-31 23:00:00\n",
      "Data columns (total 2 columns):\n",
      "energy_kwh    8760 non-null float64\n",
      "cost_cents    8760 non-null float64\n",
      "dtypes: float64(2)\n",
      "memory usage: 205.3 KB\n"
     ]
    }
   ],
   "source": [
    "preprocessed_df.info()"
   ]
  },
  {
   "cell_type": "markdown",
   "metadata": {},
   "source": [
    "### Povzetek"
   ]
  },
  {
   "cell_type": "markdown",
   "metadata": {},
   "source": [
    "<ul>\n",
    "<li>\n",
    "<p>Try to use <a href=\"https://realpython.com/numpy-array-programming/#what-is-vectorization\">vectorized operations</a> where possible rather than approaching problems with the <code>for x in df...</code> mentality. If your code is home to a lot of for-loops, it might be better suited to working with native Python data structures, because Pandas otherwise comes with a lot of overhead.</p>\n",
    "</li>\n",
    "<li>\n",
    "<p>If you have more complex operations where vectorization is simply impossible or too difficult to work out efficiently, use the <code>.apply()</code> method.</p>\n",
    "</li>\n",
    "<li>\n",
    "<p>If you do have to loop over your array (which does happen), use <code>.iterrows()</code> or <code>.itertuples()</code> to improve speed and syntax.</p>\n",
    "</li>\n",
    "<li>\n",
    "<p>Pandas has a lot of optionality, and there are almost always several ways to get from A to B. Be mindful of this, compare how different routes perform, and choose the one that works best in the context of your project.</p>\n",
    "</li>\n",
    "<li>\n",
    "<p>Once you’ve got a data cleaning script built, avoid reprocessing by storing your intermediate results with HDFStore.</p>\n",
    "</li>\n",
    "<li>\n",
    "<p>Integrating NumPy into Pandas operations can often improve speed and simplify syntax.</p>\n",
    "</li>\n",
    "</ul>"
   ]
  },
  {
   "cell_type": "markdown",
   "metadata": {},
   "source": [
    "## Drugi nasveti"
   ]
  },
  {
   "cell_type": "markdown",
   "metadata": {},
   "source": [
    "###  [Numba](https://numba.pydata.org/)"
   ]
  },
  {
   "cell_type": "markdown",
   "metadata": {},
   "source": [
    "Numba translates Python functions to optimized machine code at runtime using the industry-standard LLVM compiler library. Numba-compiled numerical algorithms in Python can approach the speeds of C or FORTRAN."
   ]
  },
  {
   "cell_type": "markdown",
   "metadata": {},
   "source": [
    "### pandas.eval() for Efficient Operations"
   ]
  },
  {
   "cell_type": "markdown",
   "metadata": {},
   "source": [
    "[Dokumentacija](https://pandas.pydata.org/pandas-docs/stable/reference/api/pandas.eval.html)"
   ]
  },
  {
   "cell_type": "markdown",
   "metadata": {},
   "source": [
    "[High-Performance Pandas: eval() and query()](https://jakevdp.github.io/PythonDataScienceHandbook/03.12-performance-eval-and-query.html#pandas.eval()-for-Efficient-Operations)"
   ]
  },
  {
   "cell_type": "markdown",
   "metadata": {},
   "source": [
    "As of version 0.13 (released January 2014), Pandas includes some experimental tools that allow you to directly access C-speed operations without costly allocation of intermediate arrays. These are the eval() and query() functions, which rely on the Numexpr package."
   ]
  }
 ],
 "metadata": {
  "kernelspec": {
   "display_name": "Python 3",
   "language": "python",
   "name": "python3"
  },
  "language_info": {
   "codemirror_mode": {
    "name": "ipython",
    "version": 3
   },
   "file_extension": ".py",
   "mimetype": "text/x-python",
   "name": "python",
   "nbconvert_exporter": "python",
   "pygments_lexer": "ipython3",
   "version": "3.7.3"
  }
 },
 "nbformat": 4,
 "nbformat_minor": 2
}
